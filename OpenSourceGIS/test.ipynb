{
 "cells": [
  {
   "cell_type": "code",
   "execution_count": 17,
   "metadata": {},
   "outputs": [],
   "source": [
    "def num_higher(s,s_high):\n",
    "    num=0\n",
    "    for a in s:\n",
    "        if a >= s_high:\n",
    "            num = num+1\n",
    "    return num"
   ]
  },
  {
   "cell_type": "code",
   "execution_count": null,
   "metadata": {},
   "outputs": [],
   "source": [
    "scores = [93,60,76,56,98,65,89,78,90,73,56,98,78,90,73,78,90,73]\n",
    "num=0\n",
    "for a in scores:\n",
    "    if a >= 90:\n",
    "        num = num+1\n",
    "print(num)"
   ]
  },
  {
   "cell_type": "code",
   "execution_count": null,
   "metadata": {},
   "outputs": [],
   "source": [
    "num_high = num_higher(s=scores, s_high=90)\n",
    "print(num_high)"
   ]
  },
  {
   "cell_type": "code",
   "execution_count": null,
   "metadata": {},
   "outputs": [],
   "source": [
    "from OpenSourceGIS.module import num_higher_, num_lower_\n",
    "num_high = num_higher_(s=scores, s_high=90)\n",
    "num_low = num_lower_(s=scores, s_low=90)\n",
    "print('num_high is',num_high)\n",
    "print('num_low is',num_low)"
   ]
  },
  {
   "cell_type": "code",
   "execution_count": null,
   "metadata": {},
   "outputs": [],
   "source": [
    "scores = [93,60,76,56,98,65,89,78,90,73,56,98,78,90,73,78,90,73]\n",
    "\n",
    "from OpenSourceGIS.module import num_higher_, num_lower_\n",
    "num_high = num_higher_(s=scores, s_high=90)\n",
    "num_low = num_lower_(s=scores, s_low=80)\n",
    "print(num_high)\n",
    "print(num_low)"
   ]
  },
  {
   "cell_type": "code",
   "execution_count": null,
   "metadata": {},
   "outputs": [],
   "source": [
    "import numpy as np\n",
    "\n",
    "array = np.array([1,2,3,4,5])\n",
    "array_mean = np.mean(array)\n",
    "print(array)\n",
    "print(array_mean)"
   ]
  },
  {
   "cell_type": "markdown",
   "metadata": {},
   "source": [
    "画图"
   ]
  },
  {
   "cell_type": "code",
   "execution_count": null,
   "metadata": {},
   "outputs": [],
   "source": [
    "import matplotlib.pyplot as plt"
   ]
  },
  {
   "cell_type": "code",
   "execution_count": null,
   "metadata": {},
   "outputs": [],
   "source": [
    "fig = plt.figure(figsize=(10, 4))\n",
    "ax = fig.add_axes([0,0,1,1])\n",
    "ax.set_title('title', size=30)\n",
    "ax.set_xlabel('xlabel', size=20)\n",
    "ax.tick_params(axis='x', labelsize=24)"
   ]
  },
  {
   "cell_type": "markdown",
   "metadata": {},
   "source": [
    "线形图"
   ]
  },
  {
   "cell_type": "code",
   "execution_count": null,
   "metadata": {},
   "outputs": [],
   "source": [
    "data = [1,3,4,6]\n",
    "fig, ax = plt.subplots(1, 4, figsize=(10,5))\n",
    "ax[0].plot(data, color='red', marker='*', markersize=20)"
   ]
  },
  {
   "cell_type": "markdown",
   "metadata": {},
   "source": [
    "散点图"
   ]
  },
  {
   "cell_type": "code",
   "execution_count": null,
   "metadata": {},
   "outputs": [],
   "source": [
    "data_x = [1,2,3,4]\n",
    "data_y = [3,2,1,4]\n",
    "data_z = [100,70,40,90]\n",
    "\n",
    "fig, ax = plt.subplots(1, 1, figsize=(10, 5))\n",
    "ax.scatter(x=data_x, y=data_y, s=60, marker='*', color='green')"
   ]
  }
 ],
 "metadata": {
  "kernelspec": {
   "display_name": ".venv",
   "language": "python",
   "name": "python3"
  },
  "language_info": {
   "codemirror_mode": {
    "name": "ipython",
    "version": 3
   },
   "file_extension": ".py",
   "mimetype": "text/x-python",
   "name": "python",
   "nbconvert_exporter": "python",
   "pygments_lexer": "ipython3",
   "version": "3.12.4"
  }
 },
 "nbformat": 4,
 "nbformat_minor": 2
}
