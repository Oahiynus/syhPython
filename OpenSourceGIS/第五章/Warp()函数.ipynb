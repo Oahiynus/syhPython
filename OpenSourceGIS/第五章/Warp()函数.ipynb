{
 "cells": [
  {
   "cell_type": "markdown",
   "metadata": {},
   "source": [
    "## 使用Warp()函数快捷处理栅格数据重投影、重采样"
   ]
  },
  {
   "cell_type": "code",
   "execution_count": 1,
   "metadata": {},
   "outputs": [],
   "source": [
    "from osgeo import gdal, osr"
   ]
  },
  {
   "cell_type": "markdown",
   "metadata": {},
   "source": [
    "### 重投影"
   ]
  },
  {
   "cell_type": "code",
   "execution_count": 4,
   "metadata": {},
   "outputs": [],
   "source": [
    "path_img = \"E:\\\\YNU\\\\5\\\\OpenSourceGIS\\\\Act_5\\\\OnClass\\\\chenggong_utm48.tif\"\n",
    "path_reproj = \"E:\\\\YNU\\\\5\\\\OpenSourceGIS\\\\Act_5\\\\OnClass\\\\chenggong_wgs84_reproj_Warp().tif\"\n",
    "\n",
    "warp_reproj = gdal.Warp(srcDSOrSrcDSTab = path_img, \n",
    "                        destNameOrDestDS = path_reproj, \n",
    "                        dstSRS = \"EPSG:4326\")\n",
    "warp_reproj = None"
   ]
  },
  {
   "cell_type": "markdown",
   "metadata": {},
   "source": [
    "### 重采样"
   ]
  },
  {
   "cell_type": "code",
   "execution_count": 6,
   "metadata": {},
   "outputs": [],
   "source": [
    "path_img = \"E:\\\\YNU\\\\5\\\\OpenSourceGIS\\\\Act_5\\\\OnClass\\\\chenggong_utm48.tif\"  # 输入影像路径\n",
    "path_resam = \"E:\\\\YNU\\\\5\\\\OpenSourceGIS\\\\Act_5\\\\OnClass\\\\chenggong_utm48_resam_Warp().tif\"  # 输出重采样影像路径\n",
    "\n",
    "warp_resam = gdal.Warp(srcDSOrSrcDSTab = path_img,\n",
    "                       destNameOrDestDS = path_resam,\n",
    "                       xRes=25,\n",
    "                       yRes=25,\n",
    "                       resampleAlg=gdal.GRA_Bilinear)\n",
    "warp_resam = None"
   ]
  }
 ],
 "metadata": {
  "kernelspec": {
   "display_name": "geoenv",
   "language": "python",
   "name": "python3"
  },
  "language_info": {
   "codemirror_mode": {
    "name": "ipython",
    "version": 3
   },
   "file_extension": ".py",
   "mimetype": "text/x-python",
   "name": "python",
   "nbconvert_exporter": "python",
   "pygments_lexer": "ipython3",
   "version": "3.12.5"
  }
 },
 "nbformat": 4,
 "nbformat_minor": 2
}
