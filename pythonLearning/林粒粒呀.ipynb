{
 "cells": [
  {
   "cell_type": "markdown",
   "metadata": {},
   "source": [
    "## 更多print | 让程序给你打印一首诗"
   ]
  },
  {
   "cell_type": "code",
   "execution_count": 2,
   "metadata": {},
   "outputs": [
    {
     "name": "stdout",
     "output_type": "stream",
     "text": [
      "你好 这是一句代码 哈哈\n",
      "\n",
      "He said \"Let's go!\"\n",
      "\n",
      "我是第一行\n",
      "我是第二行\n",
      "\n",
      "君不见，黄河之水天上来，奔流到海不复回。\n",
      "君不见，高堂明镜悲白发，朝如青丝暮成雪。\n",
      "    人生得意须尽欢，莫使金樽空对月。\n",
      "    天生我材必有用，千金散尽还复来。\n",
      "    烹羊宰牛且为乐，会须一饮三百杯。\n",
      "    岑夫子，丹丘生，将进酒，君莫停。\n",
      "      与君歌一曲，请君为我倾耳听。\n",
      "    钟鼓馔玉不足贵，但愿长醉不复醒。\n",
      "    古来圣贤皆寂寞，惟有饮者留其名。\n",
      "    陈王昔时宴平乐，斗酒十千恣欢谑。\n",
      "    主人何为言少钱，径须沽取对君酌。\n",
      "    五花马，千金裘，呼儿将出换美酒，\n",
      "            与尔同销万古愁。\n"
     ]
    }
   ],
   "source": [
    "# 字符串连接\n",
    "print(\"你好\" + \" 这是一句代码\" + \" 哈哈\" + '\\n')\n",
    "# 单双引号转义\n",
    "print('He said \\\"Let\\'s go!\\\"' + '\\n')\n",
    "# 换行\n",
    "print(\"我是第一行\\n我是第二行\" + '\\n')\n",
    "# 三引号跨行字符串\n",
    "print(\"\"\"君不见，黄河之水天上来，奔流到海不复回。\n",
    "君不见，高堂明镜悲白发，朝如青丝暮成雪。\n",
    "    人生得意须尽欢，莫使金樽空对月。\n",
    "    天生我材必有用，千金散尽还复来。\n",
    "    烹羊宰牛且为乐，会须一饮三百杯。\n",
    "    岑夫子，丹丘生，将进酒，君莫停。\n",
    "      与君歌一曲，请君为我倾耳听。\n",
    "    钟鼓馔玉不足贵，但愿长醉不复醒。\n",
    "    古来圣贤皆寂寞，惟有饮者留其名。\n",
    "    陈王昔时宴平乐，斗酒十千恣欢谑。\n",
    "    主人何为言少钱，径须沽取对君酌。\n",
    "    五花马，千金裘，呼儿将出换美酒，\n",
    "            与尔同销万古愁。\"\"\")"
   ]
  },
  {
   "cell_type": "markdown",
   "metadata": {},
   "source": [
    "## Python变量 | 怎么让对象记住你的手机号 / 哪些变量名算好名字"
   ]
  },
  {
   "cell_type": "markdown",
   "metadata": {},
   "source": [
    "1. 变量名中间不能有空格，也不能是数字打头，也千万别用引号包住它。  \n",
    "2. 变量取名有硬性规则：只能由字母、数字和下划线组成，不能有下划线之外的符号，不能有空格以及不能数字开头。  \n",
    "3. 变量名应该尽量取得易于理解和记忆。  \n",
    "4. (×)过于简单：a, a1, abc 过几天只有上帝知道这个变量是干嘛的了。  \n",
    "   (×)拼音：bu_yao_yong_pin_yin 拼音阅读速度慢，不带声调容易误解，对个人来说不容易分平翘舌前后鼻音。  \n",
    "   (×)汉字：不建议使用，如果控制台或日志等编码不兼容，还是会展示出乱码。  \n",
    "5. (✓, 常用)字母全部小写，不同单词用下划线分隔 user_age, user_gender.  \n",
    "   (✓)驼峰命名法 UserAge, UserGender.  \n",
    "6. 变量名是大小写敏感的，同时变量名也不要占用Python关键字。"
   ]
  },
  {
   "cell_type": "code",
   "execution_count": 3,
   "metadata": {},
   "outputs": [
    {
     "name": "stdout",
     "output_type": "stream",
     "text": [
      "拨打13766666666\n",
      "拨打13766666666\n",
      "\n",
      "拨打现在的电话15088888888\n",
      "拨打现在的电话15088888888\n"
     ]
    }
   ],
   "source": [
    "my_love = \"13766666666\"\n",
    "print(\"拨打\" + my_love)\n",
    "print(\"拨打\" + my_love + '\\n')\n",
    "\n",
    "# 假设现在对象换了个号码\n",
    "my_love_ex = my_love\n",
    "my_love = \"15088888888\"\n",
    "print(\"拨打现在的电话\" + my_love)\n",
    "print(\"拨打现在的电话\" + my_love)"
   ]
  },
  {
   "cell_type": "markdown",
   "metadata": {},
   "source": [
    "## Python数学计算 | 用代码秒杀计算器"
   ]
  },
  {
   "cell_type": "code",
   "execution_count": 4,
   "metadata": {},
   "outputs": [
    {
     "name": "stdout",
     "output_type": "stream",
     "text": [
      "sin(1) = 0.8414709848078965\n",
      "log2(8) = 3.0\n",
      "delta = 16\n",
      "第一个根 = -3.0\n",
      "第二个根 = 1.0\n"
     ]
    }
   ],
   "source": [
    "# 导入math函数库，即软件包调用\n",
    "import math\n",
    "\n",
    "print('sin(1) =',math.sin(1))\n",
    "\n",
    "结果 = math.log2(8)\n",
    "print('log2(8) =',结果)\n",
    "\n",
    "# 求解二元一次方程\n",
    "a = -1\n",
    "b = -2\n",
    "c = 3\n",
    "# 求根公式\n",
    "delta = b ** 2 - 4 * a * c\n",
    "print('delta =',delta)\n",
    "result_1 = (-b + math.sqrt(delta)) / 2 * a\n",
    "result_2 = (-b - math.sqrt(delta)) / 2 * a\n",
    "print('第一个根 =',result_1)\n",
    "print('第二个根 =',result_2)"
   ]
  },
  {
   "cell_type": "markdown",
   "metadata": {},
   "source": [
    "## Python数据类型 | 程序世界的物种们"
   ]
  },
  {
   "cell_type": "markdown",
   "metadata": {},
   "source": [
    "Python世界的物种叫做数据类型，包括字符串str、整数int、浮点数float、布尔类型bool、空值类型NoneType、列表list、字典dictionary  \n",
    "python中7种数据类型：string（字符串）、Number（数字）、Bool（布尔）、List（列表）、Dictionary（字典）、Tuple（元组）、Set（集合）"
   ]
  },
  {
   "cell_type": "code",
   "execution_count": 5,
   "metadata": {},
   "outputs": [
    {
     "name": "stdout",
     "output_type": "stream",
     "text": [
      "字符串s的长度为 12\n",
      "!\n",
      "!\n",
      "!\n",
      "\n",
      " 'hellow world'的数据类型为 <class 'str'>\n",
      "6的数据类型为 <class 'int'>\n",
      "6.0的数据类型为 <class 'float'>\n",
      "True的数据类型为 <class 'bool'>\n",
      "None的数据类型为 <class 'NoneType'>\n",
      "[1, 2, 3]的数据类型为 <class 'list'>\n",
      "{3, 4, 5}的数据类型为 <class 'set'>\n",
      "{'小张': 80, '小李':85, '小周': 78}的数据类型为 <class 'dict'>\n"
     ]
    }
   ],
   "source": [
    "# 字符串类型\n",
    "s = \"Hello world!\"\n",
    "# 对字符串求长度\n",
    "print('字符串s的长度为', len(s))\n",
    "# 通过索引获取单个字符，此处获取最后一个字符，即!（其索引为11）\n",
    "print(s[11])\n",
    "print(s[-1])\n",
    "print(s[len(s)-1])\n",
    "# 布尔类型\n",
    "b1 = True\n",
    "b2 = False\n",
    "# 空值类型\n",
    "n = None\n",
    "# type函数查看各种数据类型\n",
    "print('\\n', '\\'hellow world\\'的数据类型为',type('s'))\n",
    "print('6的数据类型为',type(6))\n",
    "print('6.0的数据类型为',type(6.0))\n",
    "print('True的数据类型为',type(b1))\n",
    "print('None的数据类型为',type(n))\n",
    "print('[1, 2, 3]的数据类型为',type([1, 2, 3]))\n",
    "print('{3, 4, 5}的数据类型为',type({3, 4, 5}))\n",
    "print('{\\'小张\\': 80, \\'小李\\':85, \\'小周\\': 78}的数据类型为',type({'小张': 80, '小李':85, '小周': 78}))"
   ]
  },
  {
   "cell_type": "markdown",
   "metadata": {},
   "source": [
    "# Python input | 写个用户问答互动程序"
   ]
  },
  {
   "cell_type": "markdown",
   "metadata": {},
   "source": [
    "标准的调用函数的方式：函数名后面跟括号，然后在括号里面放上参数（也就是要传入的数据）  \n",
    "input(\"这里是给用户的一些提示\")"
   ]
  },
  {
   "cell_type": "code",
   "execution_count": 6,
   "metadata": {},
   "outputs": [
    {
     "name": "stdout",
     "output_type": "stream",
     "text": [
      "知道了，你今年20岁了！\n",
      "666\n",
      "30\n",
      "您十年后会是30岁\n"
     ]
    }
   ],
   "source": [
    "# 例如询问用户的年龄\n",
    "user_age = input(\"请输入您的年龄：\")\n",
    "print(\"知道了，你今年\" + user_age + \"岁了！\")\n",
    "# input()函数一律返回字符串，即是输入的是数字，也会被当成字符串看待，不可直接用于数值计算\n",
    "# 使用int()函数转换为整数int类型，不过要注意确实是可以被转换成int类型的，比如字符串int(\"你试试会不会报错\")就真的会报错。\n",
    "# 下面计算10年后的年龄\n",
    "print(int('666')) # 这个是例子\n",
    "user_age_after_10_year = int(user_age) + 10\n",
    "print(user_age_after_10_year)\n",
    "# 同样可以再使用str()函数把其他类型转换成字符串，这在需要打印的时候很有用\n",
    "print(\"您十年后会是\" + str(user_age_after_10_year) + \"岁\")"
   ]
  },
  {
   "cell_type": "markdown",
   "metadata": {},
   "source": [
    "### 使用input()函数帮用户做个简单的BMI指数"
   ]
  },
  {
   "cell_type": "code",
   "execution_count": 7,
   "metadata": {},
   "outputs": [
    {
     "name": "stdout",
     "output_type": "stream",
     "text": [
      "您的BMI值为：21.224489795918366\n"
     ]
    }
   ],
   "source": [
    "# BMI = 体重 / (身高 ** 2)\n",
    "user_weight = float(input(\"请输入您的体重（单位:kg）：\"))\n",
    "user_height = float(input(\"请输入您的身高（单位:m）：\"))\n",
    "user_BMI = user_weight / user_height ** 2\n",
    "print(\"您的BMI值为：\" + str(user_BMI))"
   ]
  }
 ],
 "metadata": {
  "kernelspec": {
   "display_name": ".venv",
   "language": "python",
   "name": "python3"
  },
  "language_info": {
   "codemirror_mode": {
    "name": "ipython",
    "version": 3
   },
   "file_extension": ".py",
   "mimetype": "text/x-python",
   "name": "python",
   "nbconvert_exporter": "python",
   "pygments_lexer": "ipython3",
   "version": "3.12.5"
  }
 },
 "nbformat": 4,
 "nbformat_minor": 2
}
