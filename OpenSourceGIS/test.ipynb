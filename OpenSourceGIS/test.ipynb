{
 "cells": [
  {
   "cell_type": "code",
   "execution_count": null,
   "metadata": {},
   "outputs": [],
   "source": [
    "def num_higher(s,s_high):\n",
    "    num=0\n",
    "    for a in s:\n",
    "        if a >= s_high:\n",
    "            num = num+1\n",
    "    return num"
   ]
  },
  {
   "cell_type": "code",
   "execution_count": 6,
   "metadata": {},
   "outputs": [
    {
     "name": "stdout",
     "output_type": "stream",
     "text": [
      "6\n"
     ]
    }
   ],
   "source": [
    "scores = [93,60,76,56,98,65,89,78,90,73,56,98,78,90,73,78,90,73]\n",
    "num=0\n",
    "for a in scores:\n",
    "    if a >= 90:\n",
    "        num = num+1\n",
    "print(num)"
   ]
  },
  {
   "cell_type": "code",
   "execution_count": 15,
   "metadata": {},
   "outputs": [
    {
     "name": "stdout",
     "output_type": "stream",
     "text": [
      "6\n"
     ]
    }
   ],
   "source": [
    "num_high = num_higher(s=scores, s_high=90)\n",
    "print(num_high)"
   ]
  },
  {
   "cell_type": "code",
   "execution_count": null,
   "metadata": {},
   "outputs": [],
   "source": [
    "from module import num_higher_, num_lower_\n",
    "num_high = num_higher_(s=scores, s_high=90)\n",
    "num_low = num_lower_(s=scores, s_low=90)\n",
    "print('num_high is',num_high)\n",
    "print('num_low is',num_low)"
   ]
  },
  {
   "cell_type": "code",
   "execution_count": null,
   "metadata": {},
   "outputs": [],
   "source": [
    "scores = [93,60,76,56,98,65,89,78,90,73,56,98,78,90,73,78,90,73]\n",
    "\n",
    "from module import num_higher_, num_lower_\n",
    "num_high = num_higher_(s=scores, s_high=90)\n",
    "num_low = num_lower_(s=scores, s_low=80)\n",
    "print(num_high)\n",
    "print(num_low)"
   ]
  },
  {
   "cell_type": "code",
   "execution_count": 20,
   "metadata": {},
   "outputs": [
    {
     "name": "stdout",
     "output_type": "stream",
     "text": [
      "[1 2 3 4 5]\n",
      "3.0\n"
     ]
    }
   ],
   "source": [
    "import numpy as np\n",
    "\n",
    "array = np.array([1,2,3,4,5])\n",
    "array_mean = np.mean(array)\n",
    "print(array)\n",
    "print(array_mean)"
   ]
  }
 ],
 "metadata": {
  "kernelspec": {
   "display_name": ".venv",
   "language": "python",
   "name": "python3"
  },
  "language_info": {
   "codemirror_mode": {
    "name": "ipython",
    "version": 3
   },
   "file_extension": ".py",
   "mimetype": "text/x-python",
   "name": "python",
   "nbconvert_exporter": "python",
   "pygments_lexer": "ipython3",
   "version": "3.12.5"
  }
 },
 "nbformat": 4,
 "nbformat_minor": 2
}
