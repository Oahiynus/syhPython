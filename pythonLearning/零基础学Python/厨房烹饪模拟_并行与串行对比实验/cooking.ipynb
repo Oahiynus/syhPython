{
 "cells": [
  {
   "cell_type": "markdown",
   "metadata": {},
   "source": [
    "## 步骤 1：串行烹饪模拟"
   ]
  },
  {
   "cell_type": "code",
   "execution_count": null,
   "metadata": {},
   "outputs": [
    {
     "name": "stdout",
     "output_type": "stream",
     "text": [
      "开始烹饪 炒菜\n",
      "炒菜完成，目前已耗时: 5.00分钟\n",
      "开始烹饪 煮面\n",
      "煮面完成，目前已耗时: 15.00分钟\n",
      "开始烹饪 烤肉\n",
      "烤肉完成，目前已耗时: 30.00分钟\n",
      "开始烹饪 蒸饺子\n",
      "蒸饺子完成，目前已耗时: 38.00分钟\n",
      "\n",
      "总耗时: 38.00分钟\n"
     ]
    }
   ],
   "source": [
    "import time  # 导入 time 模块，用于模拟烹饪时间和计算总耗时\n",
    "# 定义每道菜的烹饪时间，以 (菜名, 烹饪时间) 的形式存储在列表中\n",
    "dishes = [\n",
    "    (\"炒菜\", 5),   # 炒菜需要 5 分钟\n",
    "    (\"煮面\", 10),  # 煮面需要 10 分钟\n",
    "    (\"烤肉\", 15),  # 烤肉需要 15 分钟\n",
    "    (\"蒸饺子\", 8)  # 蒸饺子需要 8 分钟\n",
    "]\n",
    "\n",
    "# 记录程序开始的时间，以便后续计算总耗时\n",
    "start_time = time.time()\n",
    "# 遍历每道菜，按顺序依次进行烹饪\n",
    "for dish, cook_time in dishes:\n",
    "    print(\"开始烹饪\", f\"{dish}\")  # 打印开始烹饪的信息\n",
    "    time.sleep(cook_time)      # 使用 time.sleep 模拟烹饪所需的时间（以秒为单位）\n",
    "    # 计算从程序开始到当前菜完成的时间\n",
    "    elapsed_time = time.time() - start_time\n",
    "    print(f\"{dish}完成，目前已耗时: {elapsed_time:.2f}分钟\")  # 打印完成信息和烹饪所花费的时间\n",
    "# 记录程序结束的时间\n",
    "end_time = time.time()\n",
    "# 计算总耗时，单位为秒(贴合题意显示为分钟)\n",
    "total_time = end_time - start_time\n",
    "# 打印总耗时，保留两位小数\n",
    "print(f\"\\n总耗时: {total_time:.2f}分钟\")"
   ]
  },
  {
   "cell_type": "markdown",
   "metadata": {},
   "source": [
    "## 步骤 2：并行烹饪模拟"
   ]
  },
  {
   "cell_type": "code",
   "execution_count": 1,
   "metadata": {},
   "outputs": [
    {
     "name": "stdout",
     "output_type": "stream",
     "text": [
      "开始烹饪 炒菜\n",
      "开始烹饪 煮面\n",
      "开始烹饪 烤肉\n",
      "开始烹饪 蒸饺子\n",
      "炒菜完成，目前已耗时: 5.00分钟\n",
      "蒸饺子完成，目前已耗时: 8.00分钟\n",
      "煮面完成，目前已耗时: 10.00分钟\n",
      "烤肉完成，目前已耗时: 15.00分钟\n",
      "\n",
      "总耗时: 15.01分钟\n"
     ]
    }
   ],
   "source": [
    "import threading  # 导入 threading 模块，用于创建并行线程\n",
    "import time  # 导入 time 模块，用于模拟烹饪时间和计算总耗时\n",
    "# 定义烹饪函数，模拟每道菜的烹饪过程\n",
    "def cook_dish(dish, cook_time):\n",
    "    print(\"开始烹饪\", f\"{dish}\")  # 打印开始烹饪的信息\n",
    "    time.sleep(cook_time)  # 使用 time.sleep 模拟烹饪所需的时间（以秒为单位）\n",
    "    # 计算从程序开始到当前菜完成的时间\n",
    "    elapsed_time = time.time() - start_time\n",
    "    print(f\"{dish}完成，目前已耗时: {elapsed_time:.2f}分钟\")  # 烹饪完成后打印完成信息和烹饪所花费的时间\n",
    "\n",
    "# 定义每道菜的名称和烹饪时间，以 (菜名, 烹饪时间) 的形式存储在列表中\n",
    "dishes = [\n",
    "    (\"炒菜\", 5),   # 炒菜需要 5 分钟\n",
    "    (\"煮面\", 10),  # 煮面需要 10 分钟\n",
    "    (\"烤肉\", 15),  # 烤肉需要 15 分钟\n",
    "    (\"蒸饺子\", 8)  # 蒸饺子需要 8 分钟\n",
    "]\n",
    "\n",
    "# 记录程序开始的时间，以便后续计算总耗时\n",
    "start_time = time.time()\n",
    "# 创建一个线程列表，用于存储每道菜的线程\n",
    "threads = []\n",
    "# 为每道菜创建线程并启动线程\n",
    "for dish, cook_time in dishes:\n",
    "    # 创建一个线程，目标函数为 cook_dish，传入菜名和烹饪时间作为参数\n",
    "    thread = threading.Thread(target=cook_dish, args=(dish, cook_time))\n",
    "    threads.append(thread)  # 将线程添加到线程列表中\n",
    "    thread.start()  # 启动线程，开始烹饪菜品\n",
    "# 等待所有线程完成，即等待所有菜品烹饪完成\n",
    "for thread in threads:\n",
    "    thread.join()  # 阻塞主线程，直到当前线程完成\n",
    "# 记录程序结束的时间\n",
    "end_time = time.time()\n",
    "# 计算总耗时，单位为秒（显示为分钟）\n",
    "total_time = end_time - start_time\n",
    "# 打印总耗时，保留两位小数\n",
    "print(f\"\\n总耗时: {total_time:.2f}分钟\")"
   ]
  },
  {
   "cell_type": "markdown",
   "metadata": {},
   "source": [
    "## 步骤 3：体验代码生成的随机性"
   ]
  },
  {
   "cell_type": "markdown",
   "metadata": {},
   "source": [
    "## 步骤 4：多项式计算与Threading模块的使用"
   ]
  },
  {
   "cell_type": "markdown",
   "metadata": {},
   "source": [
    "### （一）多项式多线程代码\n",
    "在多线程代码中，每一项的计算将由单独的线程执行，同时我们使用lock来确保线程安全，避免多个线程同时修改全局变量result。"
   ]
  },
  {
   "cell_type": "code",
   "execution_count": null,
   "metadata": {},
   "outputs": [
    {
     "name": "stdout",
     "output_type": "stream",
     "text": [
      "多项式在x=2时的计算结果是: 85\n"
     ]
    }
   ],
   "source": [
    "import threading\n",
    "# 全局变量用于存储结果\n",
    "result = 0\n",
    "lock = threading.Lock()\n",
    "# 每项的计算函数\n",
    "def term_4(x):\n",
    "    \"\"\"\n",
    "    计算多项式的第四项（3 * x^4）并将结果添加到全局结果中\n",
    "    \"\"\"\n",
    "    global result\n",
    "    term_result = 3 * (x ** 4)\n",
    "    with lock:\n",
    "        result += term_result\n",
    "def term_3(x):\n",
    "    \"\"\"\n",
    "    计算多项式的第三项（2 * x^3）并将结果添加到全局结果中\n",
    "    \"\"\"\n",
    "    global result\n",
    "    term_result = 2 * (x ** 3)\n",
    "    with lock:\n",
    "        result += term_result\n",
    "def term_2(x):\n",
    "    \"\"\"\n",
    "    计算多项式的第二项（1 * x^2）并将结果添加到全局结果中\n",
    "    \"\"\"\n",
    "    global result\n",
    "    term_result = 1 * (x ** 2)\n",
    "    with lock:\n",
    "        result += term_result\n",
    "def term_1(x):\n",
    "    \"\"\"\n",
    "    计算多项式的第一项（5 * x）并将结果添加到全局结果中\n",
    "    \"\"\"\n",
    "    global result\n",
    "    term_result = 5 * x\n",
    "    with lock:\n",
    "        result += term_result\n",
    "def term_0(x):\n",
    "    \"\"\"\n",
    "    计算多项式的常数项（7）并将结果添加到全局结果中\n",
    "    \"\"\"\n",
    "    global result\n",
    "    term_result = 7\n",
    "    with lock:\n",
    "        result += term_result\n",
    "# 主函数执行多线程计算\n",
    "def evaluate_polynomial_multithreaded(x_value):\n",
    "    \"\"\"\n",
    "    使用多线程计算多项式在给定x值处的值\n",
    "    \"\"\"\n",
    "    global result\n",
    "    result = 0  # 重置结果\n",
    "    threads = []\n",
    "    # 创建线程，每个函数计算一个多项式项\n",
    "    threads.append(threading.Thread(target=term_4, args=(x_value,)))\n",
    "    threads.append(threading.Thread(target=term_3, args=(x_value,)))\n",
    "    threads.append(threading.Thread(target=term_2, args=(x_value,)))\n",
    "    threads.append(threading.Thread(target=term_1, args=(x_value,)))\n",
    "    threads.append(threading.Thread(target=term_0, args=(x_value,)))\n",
    "    # 启动所有线程\n",
    "    for thread in threads:\n",
    "        thread.start()\n",
    "    # 等待所有线程完成\n",
    "    for thread in threads:\n",
    "        thread.join()\n",
    "    print(f\"多项式在x={x_value}时的计算结果是: {result}\")\n",
    "# 测试多项式计算\n",
    "evaluate_polynomial_multithreaded(2)"
   ]
  },
  {
   "cell_type": "markdown",
   "metadata": {},
   "source": [
    "### （二）多项式单线程代码\n",
    "在单线程代码中，我们顺序执行每一项的计算，依次累加到result，无需使用lock，因为没有多个线程同时访问共享资源。"
   ]
  },
  {
   "cell_type": "code",
   "execution_count": null,
   "metadata": {},
   "outputs": [
    {
     "name": "stdout",
     "output_type": "stream",
     "text": [
      "多项式在x=2时的计算结果是: 85\n"
     ]
    }
   ],
   "source": [
    "# 全局变量用于存储结果\n",
    "result = 0\n",
    "# 每项的计算函数\n",
    "def term_4(x):\n",
    "    return 3 * (x ** 4)\n",
    "def term_3(x):\n",
    "    return 2 * (x ** 3)\n",
    "def term_2(x):\n",
    "    return 1 * (x ** 2)\n",
    "def term_1(x):\n",
    "    return 5 * x\n",
    "def term_0(x):\n",
    "    return 7\n",
    "# 主函数执行单线程计算\n",
    "def evaluate_polynomial_singlethreaded(x_value):\n",
    "    global result\n",
    "    result = 0  # 重置结果\n",
    "    # 顺序计算每一项并累加\n",
    "    result += term_4(x_value)\n",
    "    result += term_3(x_value)\n",
    "    result += term_2(x_value)\n",
    "    result += term_1(x_value)\n",
    "    result += term_0(x_value)\n",
    "    print(f\"多项式在x={x_value}时的计算结果是: {result}\")\n",
    "# 测试多项式计算\n",
    "evaluate_polynomial_singlethreaded(2)"
   ]
  }
 ],
 "metadata": {
  "kernelspec": {
   "display_name": "gisenv",
   "language": "python",
   "name": "python3"
  },
  "language_info": {
   "codemirror_mode": {
    "name": "ipython",
    "version": 3
   },
   "file_extension": ".py",
   "mimetype": "text/x-python",
   "name": "python",
   "nbconvert_exporter": "python",
   "pygments_lexer": "ipython3",
   "version": "3.13.0"
  }
 },
 "nbformat": 4,
 "nbformat_minor": 2
}
