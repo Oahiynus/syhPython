{
 "cells": [
  {
   "cell_type": "code",
   "execution_count": 5,
   "metadata": {},
   "outputs": [
    {
     "name": "stdout",
     "output_type": "stream",
     "text": [
      "hello\n"
     ]
    }
   ],
   "source": [
    "# []是列表，{}是集合。列表可以重复，集合不可以重复。\n",
    "a_list = [1, 2, 3, 4, 5]\n",
    "a_list.append(6)\n",
    "a_list.append(7)\n",
    "a_list.append(8)\n",
    "a_list.append(9)\n",
    "a_list.append(10)\n",
    "\n",
    "# Python的入口（不是主函数）\n",
    "if __name__ == '__main__':\n",
    "    print('hello')"
   ]
  },
  {
   "cell_type": "code",
   "execution_count": 6,
   "metadata": {},
   "outputs": [
    {
     "name": "stdout",
     "output_type": "stream",
     "text": [
      "Average: 86.6\n"
     ]
    }
   ],
   "source": [
    "grades = [85, 90, 78, 92, 88]\n",
    "ave = sum(grades) / len(grades)\n",
    "print(f'Average: {ave}')"
   ]
  },
  {
   "cell_type": "code",
   "execution_count": 7,
   "metadata": {},
   "outputs": [],
   "source": [
    "student_one = {'name': 'Alice', 'age': 21, 'major': 'Computer Science'}\n",
    "student_two = {'name': 'Bob', 'age': 22, 'major': 'Mathematics'}\n",
    "student_three = {'name': 'Charlie', 'age': 23, 'major': 'Physics'}"
   ]
  },
  {
   "cell_type": "code",
   "execution_count": 8,
   "metadata": {},
   "outputs": [],
   "source": [
    "set_a = {1, 2, 3, 4}\n",
    "set_b = {3, 4, 5, 6}"
   ]
  },
  {
   "cell_type": "code",
   "execution_count": 9,
   "metadata": {},
   "outputs": [],
   "source": [
    "b_list = [1, 2, 3, 4, 5, 6, 7, 8, 9, 10]\n",
    "# 使用set()函数将列表b_list强制转换为集合\n",
    "numbers = set(b_list)"
   ]
  },
  {
   "cell_type": "code",
   "execution_count": 10,
   "metadata": {},
   "outputs": [
    {
     "name": "stdout",
     "output_type": "stream",
     "text": [
      "共同的学生： {'Bob'}\n"
     ]
    }
   ],
   "source": [
    "class_a = {'Alice', 'Bob', 'Charlie'}\n",
    "class_b = {'Bob', 'David', 'Edward'}\n",
    "common_students = class_a & class_b\n",
    "print('共同的学生：',common_students)"
   ]
  }
 ],
 "metadata": {
  "kernelspec": {
   "display_name": "conenv",
   "language": "python",
   "name": "python3"
  },
  "language_info": {
   "codemirror_mode": {
    "name": "ipython",
    "version": 3
   },
   "file_extension": ".py",
   "mimetype": "text/x-python",
   "name": "python",
   "nbconvert_exporter": "python",
   "pygments_lexer": "ipython3",
   "version": "3.12.5"
  }
 },
 "nbformat": 4,
 "nbformat_minor": 2
}
