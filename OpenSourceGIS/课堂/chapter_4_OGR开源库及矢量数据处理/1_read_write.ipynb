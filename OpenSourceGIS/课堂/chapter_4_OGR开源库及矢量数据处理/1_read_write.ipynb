{
 "cells": [
  {
   "attachments": {},
   "cell_type": "markdown",
   "metadata": {},
   "source": [
    "#### **利用ogr开源库进行矢量文件的读写**\n"
   ]
  },
  {
   "cell_type": "code",
   "execution_count": 2,
   "metadata": {},
   "outputs": [],
   "source": [
    "from osgeo import ogr"
   ]
  },
  {
   "attachments": {},
   "cell_type": "markdown",
   "metadata": {},
   "source": [
    "##### **1. 用python读入矢量文件**"
   ]
  },
  {
   "cell_type": "code",
   "execution_count": 3,
   "metadata": {},
   "outputs": [],
   "source": [
    "path_kunming = \"E:/YNU/5/OpenSourceGIS/Assignment_3/data/矢量数据/kumming_polygon.shp\""
   ]
  },
  {
   "cell_type": "code",
   "execution_count": 4,
   "metadata": {},
   "outputs": [
    {
     "name": "stdout",
     "output_type": "stream",
     "text": [
      "Number of feature:  14\n",
      "Number of fields: 32\n"
     ]
    },
    {
     "name": "stderr",
     "output_type": "stream",
     "text": [
      "e:\\anaconda3\\envs\\gisenv\\Lib\\site-packages\\osgeo\\ogr.py:601: FutureWarning: Neither ogr.UseExceptions() nor ogr.DontUseExceptions() has been explicitly called. In GDAL 4.0, exceptions will be enabled by default.\n",
      "  warnings.warn(\n"
     ]
    }
   ],
   "source": [
    "### 读入矢量文件\n",
    "ds = ogr.Open(path_kunming, 0)    # 0是只读，1是可写\n",
    "layer = ds.GetLayer(0)            # 获取矢量文件Layer\n",
    "num_fea = layer.GetFeatureCount()   ## 统计要素个数\n",
    "print('Number of feature: ', num_fea)\n",
    "num_field = layer.GetFeature(0).GetFieldCount()   ## 统计属性个数\n",
    "print('Number of fields:', num_field)"
   ]
  },
  {
   "attachments": {},
   "cell_type": "markdown",
   "metadata": {},
   "source": [
    "##### **2. 查看矢量文件属性字段**"
   ]
  },
  {
   "cell_type": "code",
   "execution_count": 5,
   "metadata": {},
   "outputs": [
    {
     "name": "stdout",
     "output_type": "stream",
     "text": [
      "['OBJECTID', '地名', '区划码', '县级', '县级码', '县级类', '地级', '地级码', '地级类', '省级', '省级码', '省级类', '曾用名', '备注', 'ENG_NAME', 'VAR_NAME', 'code', 'NAME_3', 'VAR_NAME3', 'GID_3', 'TYPE_3', 'NAME_2', 'VAR_NAME2', 'GID_2', 'TYPE_2', 'NAME_1', 'VAR_NAME1', 'GID_1', 'TYPE_1', 'year', 'Shape_Leng', 'Shape_Area']\n"
     ]
    }
   ],
   "source": [
    "### 查看属性字段名\n",
    "fields = []\n",
    "fea = layer.GetFeature(0)\n",
    "for i in range(0, num_field):\n",
    "    field = fea.GetFieldDefnRef(i).name\n",
    "    fields.append(field)\n",
    "print(fields)\n"
   ]
  },
  {
   "cell_type": "code",
   "execution_count": 6,
   "metadata": {},
   "outputs": [
    {
     "name": "stdout",
     "output_type": "stream",
     "text": [
      "Filed value: 安宁市\n",
      "Filed value: 呈贡区\n",
      "Filed value: 东川区\n",
      "Filed value: 富民县\n",
      "Filed value: 官渡区\n",
      "Filed value: 晋宁区\n",
      "Filed value: 禄劝彝族苗族自治县\n",
      "Filed value: 盘龙区\n",
      "Filed value: 石林彝族自治县\n",
      "Filed value: 嵩明县\n",
      "Filed value: 五华区\n",
      "Filed value: 西山区\n",
      "Filed value: 寻甸回族彝族自治县\n",
      "Filed value: 宜良县\n"
     ]
    }
   ],
   "source": [
    "### 查看属性字段值（以地名为例）\n",
    "field_name = '地名'\n",
    "fea = layer.GetFeature(0)\n",
    "### 获得所有要素的字段值\n",
    "for i in range(layer.GetFeatureCount()):   ##\n",
    "  fea = layer.GetFeature(i)\n",
    "  print('Filed value:', fea.GetField(field_name))"
   ]
  },
  {
   "cell_type": "code",
   "execution_count": 7,
   "metadata": {},
   "outputs": [],
   "source": [
    "ds = None"
   ]
  },
  {
   "attachments": {},
   "cell_type": "markdown",
   "metadata": {},
   "source": [
    "##### **3. 写出矢量文件**"
   ]
  },
  {
   "cell_type": "code",
   "execution_count": 8,
   "metadata": {},
   "outputs": [],
   "source": [
    "path_kunming_out_1 = 'data/Section-4/kunming_districts_dtname_anning.shp'\n",
    "path_kunming_out_2 = 'data/Section-4/kunming_chenggong_anning.shp'\n"
   ]
  },
  {
   "attachments": {},
   "cell_type": "markdown",
   "metadata": {},
   "source": [
    "##### 3.1 写出只含有特定字段的矢量文件\n",
    "1）读入矢量数据并获取矢量数据图层；  \n",
    "2）创建新矢量文件，以此创建数据源、图层、字段。其中新建图层需定义图层名、几何、空间参考。新建字段需先定义字段，定义字段需提供字段名、字段数据类型。  \n",
    "3）遍历矢量图层要素，写入要素几何及所需属性字段。\n"
   ]
  },
  {
   "cell_type": "code",
   "execution_count": 9,
   "metadata": {},
   "outputs": [
    {
     "ename": "AttributeError",
     "evalue": "'NoneType' object has no attribute 'CreateField'",
     "output_type": "error",
     "traceback": [
      "\u001b[1;31m---------------------------------------------------------------------------\u001b[0m",
      "\u001b[1;31mAttributeError\u001b[0m                            Traceback (most recent call last)",
      "Cell \u001b[1;32mIn[9], line 9\u001b[0m\n\u001b[0;32m      7\u001b[0m layer_out \u001b[38;5;241m=\u001b[39m ds_out\u001b[38;5;241m.\u001b[39mCreateLayer(\u001b[38;5;124m'\u001b[39m\u001b[38;5;124mkunming_districts_dtname\u001b[39m\u001b[38;5;124m'\u001b[39m, geom_type\u001b[38;5;241m=\u001b[39mogr\u001b[38;5;241m.\u001b[39mwkbPolygon, srs\u001b[38;5;241m=\u001b[39min_layer\u001b[38;5;241m.\u001b[39mGetSpatialRef())\n\u001b[0;32m      8\u001b[0m field_defn \u001b[38;5;241m=\u001b[39m ogr\u001b[38;5;241m.\u001b[39mFieldDefn(field_name, ogr\u001b[38;5;241m.\u001b[39mOFTString)   \u001b[38;5;66;03m## 定义属性字段\u001b[39;00m\n\u001b[1;32m----> 9\u001b[0m \u001b[43mlayer_out\u001b[49m\u001b[38;5;241;43m.\u001b[39;49m\u001b[43mCreateField\u001b[49m(field_defn)    \u001b[38;5;66;03m## 在写出图层中新建属性字段\u001b[39;00m\n\u001b[0;32m     10\u001b[0m \u001b[38;5;66;03m# fea_defn = layer_out.GetFeature(0).GetDefnRef()    ## layer_out没有要素，故.GetFeature(0)会报错\u001b[39;00m\n\u001b[0;32m     11\u001b[0m fea_defn \u001b[38;5;241m=\u001b[39m layer_out\u001b[38;5;241m.\u001b[39mGetLayerDefn()  \u001b[38;5;66;03m## 获得要素定义（即图层定义）\u001b[39;00m\n",
      "\u001b[1;31mAttributeError\u001b[0m: 'NoneType' object has no attribute 'CreateField'"
     ]
    }
   ],
   "source": [
    "field_name = 'dt_name'\n",
    "in_ds = ogr.Open(path_kunming, 0)    # 0是只读，1是可写\n",
    "in_layer = in_ds.GetLayer()             # 获取矢量文件图层Layer\n",
    "## 定义写出文件\n",
    "driver = ogr.GetDriverByName('ESRI Shapefile')   ## 文件驱动（用于写出文件）\n",
    "ds_out = driver.CreateDataSource(path_kunming_out_1)  ## 创建数据源DataSource\n",
    "layer_out = ds_out.CreateLayer('kunming_districts_dtname', geom_type=ogr.wkbPolygon, srs=in_layer.GetSpatialRef())\n",
    "field_defn = ogr.FieldDefn(field_name, ogr.OFTString)   ## 定义属性字段\n",
    "layer_out.CreateField(field_defn)    ## 在写出图层中新建属性字段\n",
    "# fea_defn = layer_out.GetFeature(0).GetDefnRef()    ## layer_out没有要素，故.GetFeature(0)会报错\n",
    "fea_defn = layer_out.GetLayerDefn()  ## 获得要素定义（即图层定义）\n",
    "### 创建要素（将复制‘昆明市边界_wgs84.shp’文件中要素)\n",
    "for i in range(layer.GetFeatureCount()):   ##\n",
    "    in_fea = in_layer.GetFeature(i)\n",
    "    in_geo = in_fea.geometry()             ## 获得原矢量要素的几何\n",
    "    fea_out = ogr.Feature(fea_defn)\n",
    "    fea_out.SetGeometry(in_geo)\n",
    "    field_value = in_fea.GetField(field_name)\n",
    "    print(field_value)\n",
    "    fea_out.SetField(0, field_value)\n",
    "    layer_out.CreateFeature(fea_out)\n",
    "ds_out = None         #  ### 保存/关闭 DataSource (!重要)\n",
    "\n"
   ]
  },
  {
   "attachments": {},
   "cell_type": "markdown",
   "metadata": {},
   "source": [
    "##### 3.2 写出只含有呈贡区的矢量文件\n"
   ]
  },
  {
   "cell_type": "code",
   "execution_count": 10,
   "metadata": {},
   "outputs": [
    {
     "ename": "AttributeError",
     "evalue": "'NoneType' object has no attribute 'GetLayerDefn'",
     "output_type": "error",
     "traceback": [
      "\u001b[1;31m---------------------------------------------------------------------------\u001b[0m",
      "\u001b[1;31mAttributeError\u001b[0m                            Traceback (most recent call last)",
      "Cell \u001b[1;32mIn[10], line 7\u001b[0m\n\u001b[0;32m      5\u001b[0m ds_out \u001b[38;5;241m=\u001b[39m driver\u001b[38;5;241m.\u001b[39mCreateDataSource(path_kunming_out_2)\n\u001b[0;32m      6\u001b[0m layer_out \u001b[38;5;241m=\u001b[39m ds_out\u001b[38;5;241m.\u001b[39mCreateLayer(\u001b[38;5;124m'\u001b[39m\u001b[38;5;124mkunming_chenggong\u001b[39m\u001b[38;5;124m'\u001b[39m, geom_type\u001b[38;5;241m=\u001b[39mogr\u001b[38;5;241m.\u001b[39mwkbPolygon, srs\u001b[38;5;241m=\u001b[39min_layer\u001b[38;5;241m.\u001b[39mGetSpatialRef())\n\u001b[1;32m----> 7\u001b[0m fea_defn \u001b[38;5;241m=\u001b[39m \u001b[43mlayer_out\u001b[49m\u001b[38;5;241;43m.\u001b[39;49m\u001b[43mGetLayerDefn\u001b[49m()    \u001b[38;5;66;03m## 获得空要素定义(或空图层定义)\u001b[39;00m\n\u001b[0;32m      9\u001b[0m \u001b[38;5;66;03m### 创建字段\u001b[39;00m\n\u001b[0;32m     10\u001b[0m layer_defn \u001b[38;5;241m=\u001b[39m layer_out\u001b[38;5;241m.\u001b[39mGetLayerDefn()\n",
      "\u001b[1;31mAttributeError\u001b[0m: 'NoneType' object has no attribute 'GetLayerDefn'"
     ]
    }
   ],
   "source": [
    "in_ds = ogr.Open(path_kunming, 0)           # 0是只读，1是可写\n",
    "in_layer = in_ds.GetLayer()    # 获取矢量文件Layer\n",
    "### 创建写出文件\n",
    "driver = ogr.GetDriverByName('ESRI Shapefile')\n",
    "ds_out = driver.CreateDataSource(path_kunming_out_2)\n",
    "layer_out = ds_out.CreateLayer('kunming_chenggong', geom_type=ogr.wkbPolygon, srs=in_layer.GetSpatialRef())\n",
    "fea_defn = layer_out.GetLayerDefn()    ## 获得空要素定义(或空图层定义)\n",
    "\n",
    "### 创建字段\n",
    "layer_defn = layer_out.GetLayerDefn()\n",
    "print('Number of fields (before field creating): ', layer_defn.GetFieldCount())  ### 字段创建前字段数\n",
    "in_fea = in_layer.GetFeature(0)\n",
    "for i in range(in_fea.GetFieldCount()):\n",
    "  field_defn = in_fea.GetFieldDefnRef(i)\n",
    "  layer_out.CreateField(field_defn)\n",
    "layer_defn = layer_out.GetLayerDefn()\n",
    "print('Number of fields (after field creating): ', layer_defn.GetFieldCount())\n",
    "\n",
    "### 创建要素（复制‘昆明市边界_wgs84.shp’文件中要素)\n",
    "for i in range(in_layer.GetFeatureCount()):   ##\n",
    "  in_fea = layer.GetFeature(i)\n",
    "  if in_fea.GetField('dt_name') == '呈贡区' or in_fea.GetField('dt_name') == '安宁市':\n",
    "    fea_out = ogr.Feature(fea_defn)\n",
    "    fea_out.SetGeometry(in_fea.geometry())\n",
    "    for i in range(in_fea.GetFieldCount()):\n",
    "      field_value = in_fea.GetField(i)\n",
    "      fea_out.SetField(i, field_value)\n",
    "    layer_out.CreateFeature(fea_out)\n",
    "ds_out = None        #  ### 保存/关闭 DataSource (重要)\n",
    "\n"
   ]
  },
  {
   "cell_type": "markdown",
   "metadata": {},
   "source": [
    "##### 课后练习：写出只含五华区、盘龙区、西山区、官渡区、呈贡区的矢量文件。"
   ]
  }
 ],
 "metadata": {
  "kernelspec": {
   "display_name": "gisenv",
   "language": "python",
   "name": "python3"
  },
  "language_info": {
   "codemirror_mode": {
    "name": "ipython",
    "version": 3
   },
   "file_extension": ".py",
   "mimetype": "text/x-python",
   "name": "python",
   "nbconvert_exporter": "python",
   "pygments_lexer": "ipython3",
   "version": "3.13.0"
  },
  "orig_nbformat": 4
 },
 "nbformat": 4,
 "nbformat_minor": 2
}
