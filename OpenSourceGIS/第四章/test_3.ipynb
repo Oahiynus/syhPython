{
 "cells": [
  {
   "cell_type": "code",
   "execution_count": 2,
   "metadata": {},
   "outputs": [],
   "source": [
    "from osgeo import ogr"
   ]
  },
  {
   "cell_type": "code",
   "execution_count": 3,
   "metadata": {},
   "outputs": [],
   "source": [
    "path = 'E:\\\\YNU\\\\5\\\\OpenSourceGIS\\\\Act_4\\\\OnClass\\\\kunming_wgs84.gpkg'\n",
    "path_out = 'E:\\\\YNU\\\\5\\\\OpenSourceGIS\\\\Act_4\\\\OnClass\\\\kunming_utm48.gpkg'"
   ]
  },
  {
   "cell_type": "markdown",
   "metadata": {},
   "source": [
    "## 投影转换的步骤\n",
    "1. 读入矢量数据\n",
    "2. 创建新的空间参考\n",
    "3. 创建写出数据及矢量图层\n",
    "4. 创建转换对象，并进行投影转换"
   ]
  },
  {
   "cell_type": "code",
   "execution_count": 4,
   "metadata": {},
   "outputs": [
    {
     "name": "stdout",
     "output_type": "stream",
     "text": [
      "<osgeo.osr.CoordinateTransformation; proxy of <Swig Object of type 'OSRCoordinateTransformationShadow *' at 0x000001DC57DED200> >\n"
     ]
    },
    {
     "name": "stderr",
     "output_type": "stream",
     "text": [
      "e:\\anaconda3\\envs\\geoenv\\Lib\\site-packages\\osgeo\\ogr.py:601: FutureWarning: Neither ogr.UseExceptions() nor ogr.DontUseExceptions() has been explicitly called. In GDAL 4.0, exceptions will be enabled by default.\n",
      "  warnings.warn(\n"
     ]
    }
   ],
   "source": [
    "utm_epsg = 32648\n",
    "## 1.读入矢量数据\n",
    "in_ds = ogr.Open(path)\n",
    "in_layer = in_ds.GetLayer(0)\n",
    "\n",
    "## 2. 创建新的空间参考\n",
    "utm_srs = ogr.osr.SpatialReference()\n",
    "utm_srs.ImportFromEPSG(utm_epsg)\n",
    "\n",
    "## 3. 创建写出数据及矢量图层\n",
    "driver = ogr.GetDriverByName('GPKG')\n",
    "out_ds = driver.CreateDataSource(path_out)\n",
    "out_layer = out_ds.CreateLayer('kunming_utm48', geom_type = ogr.wkbPolygon, srs = utm_srs)\n",
    "\n",
    "## 4. 创建转换对象，并进行投影转换\n",
    "spatialRef = in_layer.GetSpatialRef()\n",
    "cor_transform = ogr.osr.CoordinateTransformation(spatialRef, utm_srs)\n",
    "print(cor_transform)\n",
    "\n",
    "for i in range(in_layer.GetFeature(1).GetFieldCount()):\n",
    "    field_defn = in_layer.GetFeature(1).GetFieldDefnRef(i)\n",
    "    out_layer.CreateField(field_defn)\n",
    "\n",
    "\n",
    "fea_defn = in_layer.GetLayerDefn()\n",
    "for i in range(in_layer.GetFeatureCount()):\n",
    "    in_fea = in_layer.GetFeature(i+1) # 提取要素\n",
    "    in_geo = in_fea.geometry() # 提取要素的几何\n",
    "    in_geo.Transform(cor_transform) # 参数为最初创造的***\n",
    "    out_fea = ogr.Feature(fea_defn) # 创建要素，以最初获取的作为参数\n",
    "    out_fea.SetGeometry(in_geo)\n",
    "    for j in range(fea_defn.GetFieldCount()):\n",
    "        field_value = in_fea.GetField(j) # 提取字段值\n",
    "        out_fea.SetField(j, field_value) # (索引，对应索引的字段值)\n",
    "    out_layer.CreateFeature(out_fea)\n",
    "\n",
    "ds = None\n",
    "out_ds = None"
   ]
  },
  {
   "cell_type": "code",
   "execution_count": 5,
   "metadata": {},
   "outputs": [],
   "source": [
    "path_utm = 'E:\\\\YNU\\\\5\\\\OpenSourceGIS\\\\Act_4\\\\OnClass\\\\kunming_utm48.gpkg'"
   ]
  },
  {
   "cell_type": "code",
   "execution_count": 6,
   "metadata": {},
   "outputs": [],
   "source": [
    "ds = ogr.Open(path_utm, 1)\n",
    "layer = ds.GetLayer(0)\n",
    "id_field = layer.GetFeature(1).GetFieldIndex('dt_adcode') # 要删除的字段名\n",
    "layer.DeleteField(id_field)\n",
    "ds = None"
   ]
  },
  {
   "cell_type": "code",
   "execution_count": 7,
   "metadata": {},
   "outputs": [
    {
     "name": "stdout",
     "output_type": "stream",
     "text": [
      "388.68132965333547\n",
      "864.295296736931\n",
      "638.33361729476\n",
      "887.0758120914002\n",
      "1866.1175875335928\n",
      "499.36396388766826\n",
      "1338.5644973111446\n",
      "994.1854960593394\n",
      "1914.092175416861\n",
      "1681.4133762503427\n",
      "828.4756858595103\n",
      "4227.121468713026\n",
      "3598.3429000372294\n",
      "1301.1314514651406\n"
     ]
    }
   ],
   "source": [
    "ds = ogr.Open(path_utm, 1)\n",
    "layer = ds.GetLayer(0)\n",
    "field_defn = ogr.FieldDefn('Area(km2)', ogr.OFTReal)\n",
    "layer.CreateField(field_defn)\n",
    "area_dt, dt_name = [], []\n",
    "for i in range(layer.GetFeatureCount()):\n",
    "    fea = layer.GetFeature(i+1)\n",
    "    fea_area = fea.geometry().Area()\n",
    "    fea_area = fea_area / 1000000\n",
    "    area_dt.append(fea_area)\n",
    "    fea_name = fea.GetField('dt_name')\n",
    "    dt_name.append(fea_name)\n",
    "    print(fea_area)\n",
    "    fea.SetField('Area(km2)', fea_area)\n",
    "    layer.SetFeature(fea)\n",
    "ds = None"
   ]
  },
  {
   "cell_type": "code",
   "execution_count": 8,
   "metadata": {},
   "outputs": [
    {
     "data": {
      "text/plain": [
       "<BarContainer object of 14 artists>"
      ]
     },
     "execution_count": 8,
     "metadata": {},
     "output_type": "execute_result"
    },
    {
     "name": "stderr",
     "output_type": "stream",
     "text": [
      "C:\\Users\\Yihao Sun\\AppData\\Roaming\\Python\\Python312\\site-packages\\IPython\\core\\events.py:82: UserWarning: Glyph 20116 (\\N{CJK UNIFIED IDEOGRAPH-4E94}) missing from font(s) DejaVu Sans.\n",
      "  func(*args, **kwargs)\n",
      "C:\\Users\\Yihao Sun\\AppData\\Roaming\\Python\\Python312\\site-packages\\IPython\\core\\events.py:82: UserWarning: Glyph 21326 (\\N{CJK UNIFIED IDEOGRAPH-534E}) missing from font(s) DejaVu Sans.\n",
      "  func(*args, **kwargs)\n",
      "C:\\Users\\Yihao Sun\\AppData\\Roaming\\Python\\Python312\\site-packages\\IPython\\core\\events.py:82: UserWarning: Glyph 21306 (\\N{CJK UNIFIED IDEOGRAPH-533A}) missing from font(s) DejaVu Sans.\n",
      "  func(*args, **kwargs)\n",
      "C:\\Users\\Yihao Sun\\AppData\\Roaming\\Python\\Python312\\site-packages\\IPython\\core\\events.py:82: UserWarning: Glyph 30424 (\\N{CJK UNIFIED IDEOGRAPH-76D8}) missing from font(s) DejaVu Sans.\n",
      "  func(*args, **kwargs)\n",
      "C:\\Users\\Yihao Sun\\AppData\\Roaming\\Python\\Python312\\site-packages\\IPython\\core\\events.py:82: UserWarning: Glyph 40857 (\\N{CJK UNIFIED IDEOGRAPH-9F99}) missing from font(s) DejaVu Sans.\n",
      "  func(*args, **kwargs)\n",
      "C:\\Users\\Yihao Sun\\AppData\\Roaming\\Python\\Python312\\site-packages\\IPython\\core\\events.py:82: UserWarning: Glyph 23448 (\\N{CJK UNIFIED IDEOGRAPH-5B98}) missing from font(s) DejaVu Sans.\n",
      "  func(*args, **kwargs)\n",
      "C:\\Users\\Yihao Sun\\AppData\\Roaming\\Python\\Python312\\site-packages\\IPython\\core\\events.py:82: UserWarning: Glyph 28193 (\\N{CJK UNIFIED IDEOGRAPH-6E21}) missing from font(s) DejaVu Sans.\n",
      "  func(*args, **kwargs)\n",
      "C:\\Users\\Yihao Sun\\AppData\\Roaming\\Python\\Python312\\site-packages\\IPython\\core\\events.py:82: UserWarning: Glyph 35199 (\\N{CJK UNIFIED IDEOGRAPH-897F}) missing from font(s) DejaVu Sans.\n",
      "  func(*args, **kwargs)\n",
      "C:\\Users\\Yihao Sun\\AppData\\Roaming\\Python\\Python312\\site-packages\\IPython\\core\\events.py:82: UserWarning: Glyph 23665 (\\N{CJK UNIFIED IDEOGRAPH-5C71}) missing from font(s) DejaVu Sans.\n",
      "  func(*args, **kwargs)\n",
      "C:\\Users\\Yihao Sun\\AppData\\Roaming\\Python\\Python312\\site-packages\\IPython\\core\\events.py:82: UserWarning: Glyph 19996 (\\N{CJK UNIFIED IDEOGRAPH-4E1C}) missing from font(s) DejaVu Sans.\n",
      "  func(*args, **kwargs)\n",
      "C:\\Users\\Yihao Sun\\AppData\\Roaming\\Python\\Python312\\site-packages\\IPython\\core\\events.py:82: UserWarning: Glyph 24029 (\\N{CJK UNIFIED IDEOGRAPH-5DDD}) missing from font(s) DejaVu Sans.\n",
      "  func(*args, **kwargs)\n",
      "C:\\Users\\Yihao Sun\\AppData\\Roaming\\Python\\Python312\\site-packages\\IPython\\core\\events.py:82: UserWarning: Glyph 21576 (\\N{CJK UNIFIED IDEOGRAPH-5448}) missing from font(s) DejaVu Sans.\n",
      "  func(*args, **kwargs)\n",
      "C:\\Users\\Yihao Sun\\AppData\\Roaming\\Python\\Python312\\site-packages\\IPython\\core\\events.py:82: UserWarning: Glyph 36129 (\\N{CJK UNIFIED IDEOGRAPH-8D21}) missing from font(s) DejaVu Sans.\n",
      "  func(*args, **kwargs)\n",
      "C:\\Users\\Yihao Sun\\AppData\\Roaming\\Python\\Python312\\site-packages\\IPython\\core\\events.py:82: UserWarning: Glyph 26187 (\\N{CJK UNIFIED IDEOGRAPH-664B}) missing from font(s) DejaVu Sans.\n",
      "  func(*args, **kwargs)\n",
      "C:\\Users\\Yihao Sun\\AppData\\Roaming\\Python\\Python312\\site-packages\\IPython\\core\\events.py:82: UserWarning: Glyph 23425 (\\N{CJK UNIFIED IDEOGRAPH-5B81}) missing from font(s) DejaVu Sans.\n",
      "  func(*args, **kwargs)\n",
      "C:\\Users\\Yihao Sun\\AppData\\Roaming\\Python\\Python312\\site-packages\\IPython\\core\\events.py:82: UserWarning: Glyph 23500 (\\N{CJK UNIFIED IDEOGRAPH-5BCC}) missing from font(s) DejaVu Sans.\n",
      "  func(*args, **kwargs)\n",
      "C:\\Users\\Yihao Sun\\AppData\\Roaming\\Python\\Python312\\site-packages\\IPython\\core\\events.py:82: UserWarning: Glyph 27665 (\\N{CJK UNIFIED IDEOGRAPH-6C11}) missing from font(s) DejaVu Sans.\n",
      "  func(*args, **kwargs)\n",
      "C:\\Users\\Yihao Sun\\AppData\\Roaming\\Python\\Python312\\site-packages\\IPython\\core\\events.py:82: UserWarning: Glyph 21439 (\\N{CJK UNIFIED IDEOGRAPH-53BF}) missing from font(s) DejaVu Sans.\n",
      "  func(*args, **kwargs)\n",
      "C:\\Users\\Yihao Sun\\AppData\\Roaming\\Python\\Python312\\site-packages\\IPython\\core\\events.py:82: UserWarning: Glyph 23452 (\\N{CJK UNIFIED IDEOGRAPH-5B9C}) missing from font(s) DejaVu Sans.\n",
      "  func(*args, **kwargs)\n",
      "C:\\Users\\Yihao Sun\\AppData\\Roaming\\Python\\Python312\\site-packages\\IPython\\core\\events.py:82: UserWarning: Glyph 33391 (\\N{CJK UNIFIED IDEOGRAPH-826F}) missing from font(s) DejaVu Sans.\n",
      "  func(*args, **kwargs)\n",
      "C:\\Users\\Yihao Sun\\AppData\\Roaming\\Python\\Python312\\site-packages\\IPython\\core\\events.py:82: UserWarning: Glyph 30707 (\\N{CJK UNIFIED IDEOGRAPH-77F3}) missing from font(s) DejaVu Sans.\n",
      "  func(*args, **kwargs)\n",
      "C:\\Users\\Yihao Sun\\AppData\\Roaming\\Python\\Python312\\site-packages\\IPython\\core\\events.py:82: UserWarning: Glyph 26519 (\\N{CJK UNIFIED IDEOGRAPH-6797}) missing from font(s) DejaVu Sans.\n",
      "  func(*args, **kwargs)\n",
      "C:\\Users\\Yihao Sun\\AppData\\Roaming\\Python\\Python312\\site-packages\\IPython\\core\\events.py:82: UserWarning: Glyph 24413 (\\N{CJK UNIFIED IDEOGRAPH-5F5D}) missing from font(s) DejaVu Sans.\n",
      "  func(*args, **kwargs)\n",
      "C:\\Users\\Yihao Sun\\AppData\\Roaming\\Python\\Python312\\site-packages\\IPython\\core\\events.py:82: UserWarning: Glyph 26063 (\\N{CJK UNIFIED IDEOGRAPH-65CF}) missing from font(s) DejaVu Sans.\n",
      "  func(*args, **kwargs)\n",
      "C:\\Users\\Yihao Sun\\AppData\\Roaming\\Python\\Python312\\site-packages\\IPython\\core\\events.py:82: UserWarning: Glyph 33258 (\\N{CJK UNIFIED IDEOGRAPH-81EA}) missing from font(s) DejaVu Sans.\n",
      "  func(*args, **kwargs)\n",
      "C:\\Users\\Yihao Sun\\AppData\\Roaming\\Python\\Python312\\site-packages\\IPython\\core\\events.py:82: UserWarning: Glyph 27835 (\\N{CJK UNIFIED IDEOGRAPH-6CBB}) missing from font(s) DejaVu Sans.\n",
      "  func(*args, **kwargs)\n",
      "C:\\Users\\Yihao Sun\\AppData\\Roaming\\Python\\Python312\\site-packages\\IPython\\core\\events.py:82: UserWarning: Glyph 23913 (\\N{CJK UNIFIED IDEOGRAPH-5D69}) missing from font(s) DejaVu Sans.\n",
      "  func(*args, **kwargs)\n",
      "C:\\Users\\Yihao Sun\\AppData\\Roaming\\Python\\Python312\\site-packages\\IPython\\core\\events.py:82: UserWarning: Glyph 26126 (\\N{CJK UNIFIED IDEOGRAPH-660E}) missing from font(s) DejaVu Sans.\n",
      "  func(*args, **kwargs)\n",
      "C:\\Users\\Yihao Sun\\AppData\\Roaming\\Python\\Python312\\site-packages\\IPython\\core\\events.py:82: UserWarning: Glyph 31108 (\\N{CJK UNIFIED IDEOGRAPH-7984}) missing from font(s) DejaVu Sans.\n",
      "  func(*args, **kwargs)\n",
      "C:\\Users\\Yihao Sun\\AppData\\Roaming\\Python\\Python312\\site-packages\\IPython\\core\\events.py:82: UserWarning: Glyph 21149 (\\N{CJK UNIFIED IDEOGRAPH-529D}) missing from font(s) DejaVu Sans.\n",
      "  func(*args, **kwargs)\n",
      "C:\\Users\\Yihao Sun\\AppData\\Roaming\\Python\\Python312\\site-packages\\IPython\\core\\events.py:82: UserWarning: Glyph 33495 (\\N{CJK UNIFIED IDEOGRAPH-82D7}) missing from font(s) DejaVu Sans.\n",
      "  func(*args, **kwargs)\n",
      "C:\\Users\\Yihao Sun\\AppData\\Roaming\\Python\\Python312\\site-packages\\IPython\\core\\events.py:82: UserWarning: Glyph 23547 (\\N{CJK UNIFIED IDEOGRAPH-5BFB}) missing from font(s) DejaVu Sans.\n",
      "  func(*args, **kwargs)\n",
      "C:\\Users\\Yihao Sun\\AppData\\Roaming\\Python\\Python312\\site-packages\\IPython\\core\\events.py:82: UserWarning: Glyph 30008 (\\N{CJK UNIFIED IDEOGRAPH-7538}) missing from font(s) DejaVu Sans.\n",
      "  func(*args, **kwargs)\n",
      "C:\\Users\\Yihao Sun\\AppData\\Roaming\\Python\\Python312\\site-packages\\IPython\\core\\events.py:82: UserWarning: Glyph 22238 (\\N{CJK UNIFIED IDEOGRAPH-56DE}) missing from font(s) DejaVu Sans.\n",
      "  func(*args, **kwargs)\n",
      "C:\\Users\\Yihao Sun\\AppData\\Roaming\\Python\\Python312\\site-packages\\IPython\\core\\events.py:82: UserWarning: Glyph 23433 (\\N{CJK UNIFIED IDEOGRAPH-5B89}) missing from font(s) DejaVu Sans.\n",
      "  func(*args, **kwargs)\n",
      "C:\\Users\\Yihao Sun\\AppData\\Roaming\\Python\\Python312\\site-packages\\IPython\\core\\events.py:82: UserWarning: Glyph 24066 (\\N{CJK UNIFIED IDEOGRAPH-5E02}) missing from font(s) DejaVu Sans.\n",
      "  func(*args, **kwargs)\n",
      "C:\\Users\\Yihao Sun\\AppData\\Roaming\\Python\\Python312\\site-packages\\IPython\\core\\pylabtools.py:170: UserWarning: Glyph 20116 (\\N{CJK UNIFIED IDEOGRAPH-4E94}) missing from font(s) DejaVu Sans.\n",
      "  fig.canvas.print_figure(bytes_io, **kw)\n",
      "C:\\Users\\Yihao Sun\\AppData\\Roaming\\Python\\Python312\\site-packages\\IPython\\core\\pylabtools.py:170: UserWarning: Glyph 21326 (\\N{CJK UNIFIED IDEOGRAPH-534E}) missing from font(s) DejaVu Sans.\n",
      "  fig.canvas.print_figure(bytes_io, **kw)\n",
      "C:\\Users\\Yihao Sun\\AppData\\Roaming\\Python\\Python312\\site-packages\\IPython\\core\\pylabtools.py:170: UserWarning: Glyph 21306 (\\N{CJK UNIFIED IDEOGRAPH-533A}) missing from font(s) DejaVu Sans.\n",
      "  fig.canvas.print_figure(bytes_io, **kw)\n",
      "C:\\Users\\Yihao Sun\\AppData\\Roaming\\Python\\Python312\\site-packages\\IPython\\core\\pylabtools.py:170: UserWarning: Glyph 30424 (\\N{CJK UNIFIED IDEOGRAPH-76D8}) missing from font(s) DejaVu Sans.\n",
      "  fig.canvas.print_figure(bytes_io, **kw)\n",
      "C:\\Users\\Yihao Sun\\AppData\\Roaming\\Python\\Python312\\site-packages\\IPython\\core\\pylabtools.py:170: UserWarning: Glyph 40857 (\\N{CJK UNIFIED IDEOGRAPH-9F99}) missing from font(s) DejaVu Sans.\n",
      "  fig.canvas.print_figure(bytes_io, **kw)\n",
      "C:\\Users\\Yihao Sun\\AppData\\Roaming\\Python\\Python312\\site-packages\\IPython\\core\\pylabtools.py:170: UserWarning: Glyph 23448 (\\N{CJK UNIFIED IDEOGRAPH-5B98}) missing from font(s) DejaVu Sans.\n",
      "  fig.canvas.print_figure(bytes_io, **kw)\n",
      "C:\\Users\\Yihao Sun\\AppData\\Roaming\\Python\\Python312\\site-packages\\IPython\\core\\pylabtools.py:170: UserWarning: Glyph 28193 (\\N{CJK UNIFIED IDEOGRAPH-6E21}) missing from font(s) DejaVu Sans.\n",
      "  fig.canvas.print_figure(bytes_io, **kw)\n",
      "C:\\Users\\Yihao Sun\\AppData\\Roaming\\Python\\Python312\\site-packages\\IPython\\core\\pylabtools.py:170: UserWarning: Glyph 35199 (\\N{CJK UNIFIED IDEOGRAPH-897F}) missing from font(s) DejaVu Sans.\n",
      "  fig.canvas.print_figure(bytes_io, **kw)\n",
      "C:\\Users\\Yihao Sun\\AppData\\Roaming\\Python\\Python312\\site-packages\\IPython\\core\\pylabtools.py:170: UserWarning: Glyph 23665 (\\N{CJK UNIFIED IDEOGRAPH-5C71}) missing from font(s) DejaVu Sans.\n",
      "  fig.canvas.print_figure(bytes_io, **kw)\n",
      "C:\\Users\\Yihao Sun\\AppData\\Roaming\\Python\\Python312\\site-packages\\IPython\\core\\pylabtools.py:170: UserWarning: Glyph 19996 (\\N{CJK UNIFIED IDEOGRAPH-4E1C}) missing from font(s) DejaVu Sans.\n",
      "  fig.canvas.print_figure(bytes_io, **kw)\n",
      "C:\\Users\\Yihao Sun\\AppData\\Roaming\\Python\\Python312\\site-packages\\IPython\\core\\pylabtools.py:170: UserWarning: Glyph 24029 (\\N{CJK UNIFIED IDEOGRAPH-5DDD}) missing from font(s) DejaVu Sans.\n",
      "  fig.canvas.print_figure(bytes_io, **kw)\n",
      "C:\\Users\\Yihao Sun\\AppData\\Roaming\\Python\\Python312\\site-packages\\IPython\\core\\pylabtools.py:170: UserWarning: Glyph 21576 (\\N{CJK UNIFIED IDEOGRAPH-5448}) missing from font(s) DejaVu Sans.\n",
      "  fig.canvas.print_figure(bytes_io, **kw)\n",
      "C:\\Users\\Yihao Sun\\AppData\\Roaming\\Python\\Python312\\site-packages\\IPython\\core\\pylabtools.py:170: UserWarning: Glyph 36129 (\\N{CJK UNIFIED IDEOGRAPH-8D21}) missing from font(s) DejaVu Sans.\n",
      "  fig.canvas.print_figure(bytes_io, **kw)\n",
      "C:\\Users\\Yihao Sun\\AppData\\Roaming\\Python\\Python312\\site-packages\\IPython\\core\\pylabtools.py:170: UserWarning: Glyph 26187 (\\N{CJK UNIFIED IDEOGRAPH-664B}) missing from font(s) DejaVu Sans.\n",
      "  fig.canvas.print_figure(bytes_io, **kw)\n",
      "C:\\Users\\Yihao Sun\\AppData\\Roaming\\Python\\Python312\\site-packages\\IPython\\core\\pylabtools.py:170: UserWarning: Glyph 23425 (\\N{CJK UNIFIED IDEOGRAPH-5B81}) missing from font(s) DejaVu Sans.\n",
      "  fig.canvas.print_figure(bytes_io, **kw)\n",
      "C:\\Users\\Yihao Sun\\AppData\\Roaming\\Python\\Python312\\site-packages\\IPython\\core\\pylabtools.py:170: UserWarning: Glyph 23500 (\\N{CJK UNIFIED IDEOGRAPH-5BCC}) missing from font(s) DejaVu Sans.\n",
      "  fig.canvas.print_figure(bytes_io, **kw)\n",
      "C:\\Users\\Yihao Sun\\AppData\\Roaming\\Python\\Python312\\site-packages\\IPython\\core\\pylabtools.py:170: UserWarning: Glyph 27665 (\\N{CJK UNIFIED IDEOGRAPH-6C11}) missing from font(s) DejaVu Sans.\n",
      "  fig.canvas.print_figure(bytes_io, **kw)\n",
      "C:\\Users\\Yihao Sun\\AppData\\Roaming\\Python\\Python312\\site-packages\\IPython\\core\\pylabtools.py:170: UserWarning: Glyph 21439 (\\N{CJK UNIFIED IDEOGRAPH-53BF}) missing from font(s) DejaVu Sans.\n",
      "  fig.canvas.print_figure(bytes_io, **kw)\n",
      "C:\\Users\\Yihao Sun\\AppData\\Roaming\\Python\\Python312\\site-packages\\IPython\\core\\pylabtools.py:170: UserWarning: Glyph 23452 (\\N{CJK UNIFIED IDEOGRAPH-5B9C}) missing from font(s) DejaVu Sans.\n",
      "  fig.canvas.print_figure(bytes_io, **kw)\n",
      "C:\\Users\\Yihao Sun\\AppData\\Roaming\\Python\\Python312\\site-packages\\IPython\\core\\pylabtools.py:170: UserWarning: Glyph 33391 (\\N{CJK UNIFIED IDEOGRAPH-826F}) missing from font(s) DejaVu Sans.\n",
      "  fig.canvas.print_figure(bytes_io, **kw)\n",
      "C:\\Users\\Yihao Sun\\AppData\\Roaming\\Python\\Python312\\site-packages\\IPython\\core\\pylabtools.py:170: UserWarning: Glyph 30707 (\\N{CJK UNIFIED IDEOGRAPH-77F3}) missing from font(s) DejaVu Sans.\n",
      "  fig.canvas.print_figure(bytes_io, **kw)\n",
      "C:\\Users\\Yihao Sun\\AppData\\Roaming\\Python\\Python312\\site-packages\\IPython\\core\\pylabtools.py:170: UserWarning: Glyph 26519 (\\N{CJK UNIFIED IDEOGRAPH-6797}) missing from font(s) DejaVu Sans.\n",
      "  fig.canvas.print_figure(bytes_io, **kw)\n",
      "C:\\Users\\Yihao Sun\\AppData\\Roaming\\Python\\Python312\\site-packages\\IPython\\core\\pylabtools.py:170: UserWarning: Glyph 24413 (\\N{CJK UNIFIED IDEOGRAPH-5F5D}) missing from font(s) DejaVu Sans.\n",
      "  fig.canvas.print_figure(bytes_io, **kw)\n",
      "C:\\Users\\Yihao Sun\\AppData\\Roaming\\Python\\Python312\\site-packages\\IPython\\core\\pylabtools.py:170: UserWarning: Glyph 26063 (\\N{CJK UNIFIED IDEOGRAPH-65CF}) missing from font(s) DejaVu Sans.\n",
      "  fig.canvas.print_figure(bytes_io, **kw)\n",
      "C:\\Users\\Yihao Sun\\AppData\\Roaming\\Python\\Python312\\site-packages\\IPython\\core\\pylabtools.py:170: UserWarning: Glyph 33258 (\\N{CJK UNIFIED IDEOGRAPH-81EA}) missing from font(s) DejaVu Sans.\n",
      "  fig.canvas.print_figure(bytes_io, **kw)\n",
      "C:\\Users\\Yihao Sun\\AppData\\Roaming\\Python\\Python312\\site-packages\\IPython\\core\\pylabtools.py:170: UserWarning: Glyph 27835 (\\N{CJK UNIFIED IDEOGRAPH-6CBB}) missing from font(s) DejaVu Sans.\n",
      "  fig.canvas.print_figure(bytes_io, **kw)\n",
      "C:\\Users\\Yihao Sun\\AppData\\Roaming\\Python\\Python312\\site-packages\\IPython\\core\\pylabtools.py:170: UserWarning: Glyph 23913 (\\N{CJK UNIFIED IDEOGRAPH-5D69}) missing from font(s) DejaVu Sans.\n",
      "  fig.canvas.print_figure(bytes_io, **kw)\n",
      "C:\\Users\\Yihao Sun\\AppData\\Roaming\\Python\\Python312\\site-packages\\IPython\\core\\pylabtools.py:170: UserWarning: Glyph 26126 (\\N{CJK UNIFIED IDEOGRAPH-660E}) missing from font(s) DejaVu Sans.\n",
      "  fig.canvas.print_figure(bytes_io, **kw)\n",
      "C:\\Users\\Yihao Sun\\AppData\\Roaming\\Python\\Python312\\site-packages\\IPython\\core\\pylabtools.py:170: UserWarning: Glyph 31108 (\\N{CJK UNIFIED IDEOGRAPH-7984}) missing from font(s) DejaVu Sans.\n",
      "  fig.canvas.print_figure(bytes_io, **kw)\n",
      "C:\\Users\\Yihao Sun\\AppData\\Roaming\\Python\\Python312\\site-packages\\IPython\\core\\pylabtools.py:170: UserWarning: Glyph 21149 (\\N{CJK UNIFIED IDEOGRAPH-529D}) missing from font(s) DejaVu Sans.\n",
      "  fig.canvas.print_figure(bytes_io, **kw)\n",
      "C:\\Users\\Yihao Sun\\AppData\\Roaming\\Python\\Python312\\site-packages\\IPython\\core\\pylabtools.py:170: UserWarning: Glyph 33495 (\\N{CJK UNIFIED IDEOGRAPH-82D7}) missing from font(s) DejaVu Sans.\n",
      "  fig.canvas.print_figure(bytes_io, **kw)\n",
      "C:\\Users\\Yihao Sun\\AppData\\Roaming\\Python\\Python312\\site-packages\\IPython\\core\\pylabtools.py:170: UserWarning: Glyph 23547 (\\N{CJK UNIFIED IDEOGRAPH-5BFB}) missing from font(s) DejaVu Sans.\n",
      "  fig.canvas.print_figure(bytes_io, **kw)\n",
      "C:\\Users\\Yihao Sun\\AppData\\Roaming\\Python\\Python312\\site-packages\\IPython\\core\\pylabtools.py:170: UserWarning: Glyph 30008 (\\N{CJK UNIFIED IDEOGRAPH-7538}) missing from font(s) DejaVu Sans.\n",
      "  fig.canvas.print_figure(bytes_io, **kw)\n",
      "C:\\Users\\Yihao Sun\\AppData\\Roaming\\Python\\Python312\\site-packages\\IPython\\core\\pylabtools.py:170: UserWarning: Glyph 22238 (\\N{CJK UNIFIED IDEOGRAPH-56DE}) missing from font(s) DejaVu Sans.\n",
      "  fig.canvas.print_figure(bytes_io, **kw)\n",
      "C:\\Users\\Yihao Sun\\AppData\\Roaming\\Python\\Python312\\site-packages\\IPython\\core\\pylabtools.py:170: UserWarning: Glyph 23433 (\\N{CJK UNIFIED IDEOGRAPH-5B89}) missing from font(s) DejaVu Sans.\n",
      "  fig.canvas.print_figure(bytes_io, **kw)\n",
      "C:\\Users\\Yihao Sun\\AppData\\Roaming\\Python\\Python312\\site-packages\\IPython\\core\\pylabtools.py:170: UserWarning: Glyph 24066 (\\N{CJK UNIFIED IDEOGRAPH-5E02}) missing from font(s) DejaVu Sans.\n",
      "  fig.canvas.print_figure(bytes_io, **kw)\n"
     ]
    },
    {
     "data": {
      "image/png": "[encoded data removed]",
      "text/plain": [
       "<Figure size 1500x300 with 1 Axes>"
      ]
     },
     "metadata": {},
     "output_type": "display_data"
    }
   ],
   "source": [
    "import matplotlib.pyplot as plt\n",
    "fig, ax = plt.subplots(1, 1, figsize = (15, 3))\n",
    "ax.bar(dt_name, area_dt, color = 'blue')"
   ]
  },
  {
   "cell_type": "code",
   "execution_count": 9,
   "metadata": {},
   "outputs": [],
   "source": [
    "path = 'E:\\\\YNU\\\\5\\\\OpenSourceGIS\\\\Act_4\\\\OnClass\\\\kunming_wgs84_centroid.gpkg'\n",
    "in_ds = ogr.Open(path_utm, 0)\n",
    "in_layer = in_ds.GetLayer(0)\n",
    "\n",
    "in_SpatialRef = in_layer.GetSpatialRef()\n",
    "driver = ogr.GetDriverByName('GPKG')\n",
    "out_ds = driver.CreateDataSource(path)\n",
    "\n",
    "out_layer = out_ds.CreateLayer('kunming_wgs84_centroid',geom_type = ogr.wkbPoint, srs = in_SpatialRef)\n",
    "\n",
    "field_defn = ogr.FieldDefn('fid', ogr.OFTInteger)\n",
    "out_layer.CreateField(field_defn)\n",
    "\n",
    "out_fea_defn = out_layer.GetLayerDefn() #获得要素定义\n",
    "\n",
    "for i in range(in_layer.GetFeatureCount()):\n",
    "    in_fea = in_layer.GetFeature(i+1)\n",
    "    out_geo = in_fea.geometry().Centroid()\n",
    "    out_fea = ogr.Feature(out_fea_defn)\n",
    "    out_fea.SetGeometry(out_geo)\n",
    "    out_fea.SetField('fid', i+1)\n",
    "    out_layer.CreateFeature(out_fea)\n",
    "ds = None\n",
    "out_ds = None"
   ]
  }
 ],
 "metadata": {
  "kernelspec": {
   "display_name": "geoenv",
   "language": "python",
   "name": "python3"
  },
  "language_info": {
   "codemirror_mode": {
    "name": "ipython",
    "version": 3
   },
   "file_extension": ".py",
   "mimetype": "text/x-python",
   "name": "python",
   "nbconvert_exporter": "python",
   "pygments_lexer": "ipython3",
   "version": "3.12.5"
  }
 },
 "nbformat": 4,
 "nbformat_minor": 2
}
