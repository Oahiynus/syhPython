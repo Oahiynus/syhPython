{
 "cells": [
  {
   "cell_type": "code",
   "execution_count": 2,
   "metadata": {},
   "outputs": [],
   "source": [
    "from sklearn.ensemble import RandomForestClassifier\n",
    "from sklearn.metrics import accuracy_score, recall_score, precision_score\n",
    "from sklearn.model_selection import train_test_split\n",
    "import numpy as np"
   ]
  },
  {
   "cell_type": "code",
   "execution_count": 3,
   "metadata": {},
   "outputs": [],
   "source": [
    "path_numpy = 'E:/YNU/5/OpenSourceGIS/Act_6/OnClass/sams_array.npy'\n",
    "sams = np.load(path_numpy)\n",
    "sams_fea, sams_label = sams[:,0:6], sams[:,6]"
   ]
  },
  {
   "cell_type": "code",
   "execution_count": 4,
   "metadata": {},
   "outputs": [
    {
     "data": {
      "text/plain": [
       "array([[0.1275, 0.133 , 0.1366, 0.1217, 0.0231, 0.0878],\n",
       "       [0.1274, 0.1335, 0.1343, 0.1216, 0.0231, 0.0878],\n",
       "       [0.1272, 0.134 , 0.1346, 0.121 , 0.0231, 0.0878],\n",
       "       ...,\n",
       "       [0.1679, 0.1641, 0.1408, 0.3176, 0.0216, 0.0809],\n",
       "       [0.157 , 0.1594, 0.1406, 0.331 , 0.0216, 0.0809],\n",
       "       [0.1708, 0.1674, 0.146 , 0.3142, 0.0216, 0.0809]])"
      ]
     },
     "execution_count": 4,
     "metadata": {},
     "output_type": "execute_result"
    }
   ],
   "source": [
    "sams_fea = sams_fea / (10000 - 0)\n",
    "sams_fea"
   ]
  },
  {
   "cell_type": "code",
   "execution_count": 6,
   "metadata": {},
   "outputs": [
    {
     "name": "stdout",
     "output_type": "stream",
     "text": [
      "(43474, 6)\n",
      "(18632, 6)\n"
     ]
    }
   ],
   "source": [
    "X_train, X_test, y_train, y_test = train_test_split(sams_fea, sams_label, test_size = 0.3, random_state = 42)\n",
    "print(X_train.shape)\n",
    "print(X_test.shape)"
   ]
  },
  {
   "cell_type": "code",
   "execution_count": 7,
   "metadata": {},
   "outputs": [],
   "source": [
    "model_rf = RandomForestClassifier(random_state = 42)"
   ]
  },
  {
   "cell_type": "code",
   "execution_count": null,
   "metadata": {},
   "outputs": [],
   "source": [
    "model_rf = model_rf.fit(X = X_train, y = y_train)"
   ]
  },
  {
   "cell_type": "code",
   "execution_count": 9,
   "metadata": {},
   "outputs": [],
   "source": [
    "y_test_pred = model_rf.predict(X_test)"
   ]
  },
  {
   "cell_type": "code",
   "execution_count": null,
   "metadata": {},
   "outputs": [
    {
     "data": {
      "text/plain": [
       "array([[ 7053,     0],\n",
       "       [    1, 11578]])"
      ]
     },
     "execution_count": 10,
     "metadata": {},
     "output_type": "execute_result"
    }
   ],
   "source": [
    "from sklearn.metrics import confusion_matrix\n",
    "confusion_matrix(y_true = y_test, y_pred = y_test_pred, labels=[0,1])"
   ]
  },
  {
   "cell_type": "code",
   "execution_count": 12,
   "metadata": {},
   "outputs": [
    {
     "name": "stdout",
     "output_type": "stream",
     "text": [
      "0.9999463288965221\n",
      "1.0\n",
      "1.0\n",
      "0.9999463288965221\n",
      "1.0\n",
      "0.9999136367561966\n"
     ]
    }
   ],
   "source": [
    "# 用户精度\n",
    "oa = accuracy_score(y_true=y_test, y_pred=y_test_pred)\n",
    "print(oa)\n",
    "precision = precision_score(y_true=y_test, y_pred=y_test_pred)\n",
    "print(precision)\n",
    "precision = precision_score(y_true=y_test, y_pred=y_test_pred)\n",
    "print(precision)\n",
    "\n",
    "# 生产者精度\n",
    "oa = accuracy_score(y_true=y_test, y_pred=y_test_pred)\n",
    "print(oa)\n",
    "precision = precision_score(y_true=y_test, y_pred=y_test_pred)\n",
    "print(precision)\n",
    "recall = recall_score(y_true=y_test, y_pred=y_test_pred)\n",
    "print(recall)"
   ]
  },
  {
   "cell_type": "code",
   "execution_count": 13,
   "metadata": {},
   "outputs": [],
   "source": [
    "import pickle\n",
    "path_model = 'E:/YNU/5/OpenSourceGIS/Act_7/OnClass/model_rf.pickle'\n",
    "with open(path_model, 'wb') as file:\n",
    "    pickle.dump(model_rf, file)"
   ]
  }
 ],
 "metadata": {
  "kernelspec": {
   "display_name": "gisenv",
   "language": "python",
   "name": "python3"
  },
  "language_info": {
   "codemirror_mode": {
    "name": "ipython",
    "version": 3
   },
   "file_extension": ".py",
   "mimetype": "text/x-python",
   "name": "python",
   "nbconvert_exporter": "python",
   "pygments_lexer": "ipython3",
   "version": "3.13.0"
  }
 },
 "nbformat": 4,
 "nbformat_minor": 2
}
