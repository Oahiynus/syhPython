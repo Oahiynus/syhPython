{
 "cells": [
  {
   "cell_type": "markdown",
   "metadata": {},
   "source": [
    "## 重采样"
   ]
  },
  {
   "cell_type": "code",
   "execution_count": 1,
   "metadata": {},
   "outputs": [],
   "source": [
    "from osgeo import gdal, osr  # 导入gdal和osr模块"
   ]
  },
  {
   "cell_type": "code",
   "execution_count": 2,
   "metadata": {},
   "outputs": [],
   "source": [
    "path_img = \"E:\\\\YNU\\\\5\\\\OpenSourceGIS\\\\Act_5\\\\OnClass\\\\chenggong_utm48.tif\"  # 输入影像路径\n",
    "path_resam = \"E:\\\\YNU\\\\5\\\\OpenSourceGIS\\\\Act_5\\\\OnClass\\\\chenggong_utm48_resam.tif\"  # 输出重采样影像路径\n",
    "res = 60  # 重采样分辨率"
   ]
  },
  {
   "cell_type": "markdown",
   "metadata": {},
   "source": [
    "#### 获取重采样前的地理转换参数"
   ]
  },
  {
   "cell_type": "code",
   "execution_count": 8,
   "metadata": {},
   "outputs": [
    {
     "name": "stdout",
     "output_type": "stream",
     "text": [
      "重采样前的地理转换参数为 (268167.02525260474, 10.421454790528236, 0.0, 2765453.1872716597, 0.0, -9.543567381150961)\n"
     ]
    }
   ],
   "source": [
    "dset = gdal.Open(path_img)  # 打开图像文件\n",
    "geo_trans = dset.GetGeoTransform()  # 获取图像的地理转换参数\n",
    "print('重采样前的地理转换参数为', geo_trans)  # 打印重采样前的地理转换参数"
   ]
  },
  {
   "cell_type": "code",
   "execution_count": 9,
   "metadata": {},
   "outputs": [
    {
     "name": "stdout",
     "output_type": "stream",
     "text": [
      "左上角和右下角坐标 (268167.02525260474, 2733205.4730907506) (298128.7077753734, 2765453.1872716597)\n"
     ]
    }
   ],
   "source": [
    "x_min, y_max = geo_trans[0], geo_trans[3] # 左上角坐标\n",
    "x_max, y_min = x_min + geo_trans[1] * dset.RasterXSize, y_max + geo_trans[5] * dset.RasterYSize # 右下角坐标\n",
    "print('左上角和右下角坐标', (x_min, y_min), (x_max, y_max)) # 输出左上角和右下角坐标"
   ]
  },
  {
   "cell_type": "code",
   "execution_count": 11,
   "metadata": {},
   "outputs": [
    {
     "name": "stdout",
     "output_type": "stream",
     "text": [
      "行数 499 列数 537\n",
      "分辨率为 60.04345194943623 60.051609275435936\n"
     ]
    }
   ],
   "source": [
    "x_size = (x_max - x_min) / res # 计算行数\n",
    "y_size = (y_max - y_min) / res # 计算列数\n",
    "x_size, y_size = int(x_size), int(y_size) # 将行数和列数转换为整数\n",
    "print('行数', x_size, '列数', y_size) # 输出整数的行数和列数\n",
    "\n",
    "res_x = (x_max - x_min) / x_size # 计算x方向的分辨率\n",
    "res_y = (y_max - y_min) / y_size # 计算y方向的分辨率\n",
    "print('分辨率为', res_x, res_y) # 输出分辨率"
   ]
  },
  {
   "cell_type": "code",
   "execution_count": 13,
   "metadata": {},
   "outputs": [],
   "source": [
    "geotrans_resample = [268167.02525260474, 60.04345194943623, 0.0, 2765453.1872716597, 0.0, -60.051609275435936] # 重采样的地理转换参数"
   ]
  },
  {
   "cell_type": "code",
   "execution_count": 14,
   "metadata": {},
   "outputs": [],
   "source": [
    "driver = gdal.GetDriverByName('GTiff') # 创建数据驱动\n",
    "dset_resam = driver.Create(path_resam, # 输出文件名\n",
    "                           xsize = 499, # 输出列数\n",
    "                           ysize = 537, # 输出行数\n",
    "                           bands = dset.RasterCount, # 输出波段数\n",
    "                           eType = gdal.GDT_Int16) # 输出数据类型\n",
    "\n",
    "dset_resam.SetGeoTransform(geotrans_resample) # 设置输出文件的地理变换参数\n",
    "dset_resam.SetProjection(dset.GetProjection()) # 设置输出文件的投影\n",
    "\n",
    "resam = gdal.ReprojectImage(src_ds = dset, # 输入数据集\n",
    "                            dst_ds = dset_resam, # 输出数据集\n",
    "                            eResampleAlg = gdal.GRA_Bilinear # 重采样算法\n",
    "                            )\n",
    "dset_resam = None # 关闭输出文件"
   ]
  }
 ],
 "metadata": {
  "kernelspec": {
   "display_name": "geoenv",
   "language": "python",
   "name": "python3"
  },
  "language_info": {
   "codemirror_mode": {
    "name": "ipython",
    "version": 3
   },
   "file_extension": ".py",
   "mimetype": "text/x-python",
   "name": "python",
   "nbconvert_exporter": "python",
   "pygments_lexer": "ipython3",
   "version": "3.12.5"
  }
 },
 "nbformat": 4,
 "nbformat_minor": 2
}
