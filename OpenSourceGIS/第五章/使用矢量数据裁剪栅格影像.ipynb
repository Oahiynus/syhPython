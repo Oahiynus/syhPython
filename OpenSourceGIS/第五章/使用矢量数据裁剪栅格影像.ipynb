{
 "cells": [
  {
   "cell_type": "code",
   "execution_count": 13,
   "metadata": {},
   "outputs": [],
   "source": [
    "from osgeo import gdal"
   ]
  },
  {
   "cell_type": "code",
   "execution_count": 14,
   "metadata": {},
   "outputs": [],
   "source": [
    "path_rsimg = \"E:/YNU/5/OpenSourceGIS/Act_5/OnClass/chenggong_utm48_10m.tif\"\n",
    "path_vec = \"E:/YNU/5/OpenSourceGIS/Act_4/OnClass/ynu_vec.gpkg\"\n",
    "path_subs = \"E:/YNU/5/OpenSourceGIS/Act_5/OnClass/chenggong_utm48_10m_subs_ynu.tif\""
   ]
  },
  {
   "cell_type": "code",
   "execution_count": 17,
   "metadata": {},
   "outputs": [],
   "source": [
    "dset_rsimg_subs = gdal.Warp(srcDSOrSrcDSTab=path_rsimg, \n",
    "                            destNameOrDestDS=path_subs, \n",
    "                            cutlineDSName=path_vec, \n",
    "                            dstNodata=0)\n",
    "dset_rsimg_subs = None"
   ]
  }
 ],
 "metadata": {
  "kernelspec": {
   "display_name": "gisenv",
   "language": "python",
   "name": "python3"
  },
  "language_info": {
   "codemirror_mode": {
    "name": "ipython",
    "version": 3
   },
   "file_extension": ".py",
   "mimetype": "text/x-python",
   "name": "python",
   "nbconvert_exporter": "python",
   "pygments_lexer": "ipython3",
   "version": "3.13.0"
  }
 },
 "nbformat": 4,
 "nbformat_minor": 2
}
