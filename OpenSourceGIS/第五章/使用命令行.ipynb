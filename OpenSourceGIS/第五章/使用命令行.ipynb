{
 "cells": [
  {
   "cell_type": "code",
   "execution_count": 1,
   "metadata": {},
   "outputs": [],
   "source": [
    "from osgeo import gdal"
   ]
  },
  {
   "cell_type": "code",
   "execution_count": 5,
   "metadata": {},
   "outputs": [
    {
     "name": "stderr",
     "output_type": "stream",
     "text": [
      "ERROR 1: Maximum number of positional arguments exceeded, failed to parse '284159'\n",
      "Usage: gdal_translate [--help] [--long-usage] [--help-general]\n",
      "                      [-ot Byte|Int8|[U]Int{16|32|64}|CInt{16|32}|[C]Float{32|64}] [-if <format>]...\n",
      "                      [-of <output_format>] [--quiet] [-b <band>]... [-mask <mask>] [-expand gray|rgb|rgba]\n",
      "                      [[-strict]|[-not_strict]]\n",
      "                      [-outsize <xsize[%]|0> <ysize[%]|0>] [-tr <xres> <yes>] [-ovr <level>|AUTO|AUTO-<n>|NONE] [-sds]\n",
      "                      [-r nearest,bilinear,cubic,cubicspline,lanczos,average,mode]\n",
      "                      [[-scale [<src_min> <src_max> [<dst_min> <dst_max>]]]...|\n",
      "                      [-scale_X [<src_min> <src_max> [<dst_min> <dst_max>]]]...|[-unscale]]\n",
      "                      [[-exponent <value>]|[-exponent_X <value>]...]\n",
      "                      [-srcwin <xoff> <yoff> <xsize> <ysize>] [-projwin <ulx> <uly> <lrx> <lry>]\n",
      "                      [-projwin_srs <srs_def>] [-epo] [-eco] [-a_srs <srs_def>] [-a_coord_epoch <epoch>]\n",
      "                      [-a_ullr <ulx> <uly> <lrx> <lry>] [-a_nodata <value>|none]\n",
      "                      [-a_gt <gt(0)> <gt(1)> <gt(2)> <gt(3)> <gt(4)> <gt(5)>] [-a_scale <value>] [-a_offset <value>]\n",
      "                      [-nogcp] [-gcp <pixel> <line> <easting> <northing> [<elevation>]]...\n",
      "                      [-colorinterp {red|green|blue|alpha|gray|undefined},...]\n",
      "                      [-colorinterp_X {red|green|blue|alpha|gray|undefined}]...\n",
      "                      [[-stats]|[-approx_stats]]\n",
      "                      [-norat] [-noxmp] [-co <NAME>=<VALUE>]... [-mo <NAME>=<VALUE>]... [-dmo <DOMAIN>:<KEY>=<VALUE>]...\n",
      "                      [-oo <NAME>=<VALUE>]...\n",
      "                      <input_file> <output_file>\n"
     ]
    }
   ],
   "source": [
    "path_in = \"E:/YNU/5/OpenSourceGIS/Act_5/OnClass/chenggong_utm48_10m.tif\"\n",
    "path_out = \"E:/YNU/5/OpenSourceGIS/Act_5/OnClass/命令行/chenggong_wgs84_10m_resam50.tif\"\n",
    "path_out2 = \"E:/YNU/5/OpenSourceGIS/Act_5/OnClass/命令行/chenggong_wgs84_10m_resam150*150.tif\"\n",
    "path_out3 = \"E:/YNU/5/OpenSourceGIS/Act_5/OnClass/命令行/chenggong_wgs84_10m_extent.tif\"\n",
    "extent = '281127 2748616 284159 2746698'\n",
    "## \n",
    "#!gdal_translate -tr 50 50 -r average $path_in $path_out\n",
    "## \n",
    "!gdal_translate -outsize 150 150 -r average $path_in $path_out2\n",
    "# ## 指定范围\n",
    "!gdal_translate -tr 50 50 -projwin $extent $extent $path_in $path_out3"
   ]
  },
  {
   "cell_type": "markdown",
   "metadata": {},
   "source": [
    "## 使用命令行进行坐标系转换"
   ]
  },
  {
   "cell_type": "code",
   "execution_count": 6,
   "metadata": {},
   "outputs": [
    {
     "name": "stdout",
     "output_type": "stream",
     "text": [
      "Creating output file that is 3190P x 3125L.\n",
      "Processing E:/YNU/5/OpenSourceGIS/Act_5/OnClass/chenggong_utm48_10m.tif [1/1] : 0...10...20...30...40...50...60...70...80...90...100 - done.\n"
     ]
    },
    {
     "name": "stderr",
     "output_type": "stream",
     "text": [
      "Warning 1: chenggong_utm48_10m.tif: TIFFReadDirectory:Sum of Photometric type-related color channels and ExtraSamples doesn't match SamplesPerPixel. Defining non-color channels as ExtraSamples.\n",
      "Warning 1: TIFFReadDirectory:Sum of Photometric type-related color channels and ExtraSamples doesn't match SamplesPerPixel. Defining non-color channels as ExtraSamples.\n"
     ]
    }
   ],
   "source": [
    "path_in = \"E:/YNU/5/OpenSourceGIS/Act_5/OnClass/chenggong_utm48_10m.tif\"\n",
    "path_out = \"E:/YNU/5/OpenSourceGIS/Act_5/OnClass/命令行/chenggong_utm48Towgs84_10m.tif\"\n",
    "!gdalwarp -s_srs EPSG:32648 -t_srs EPSG:4326 -r bilinear $path_in $path_out"
   ]
  },
  {
   "cell_type": "markdown",
   "metadata": {},
   "source": [
    "## 矢量化和栅格化"
   ]
  },
  {
   "cell_type": "code",
   "execution_count": 10,
   "metadata": {},
   "outputs": [],
   "source": [
    "## 矢量化\n",
    "path_in = \"E:/YNU/5/OpenSourceGIS/Act_5/OnClass/呈贡10m分辨率裁剪子区域及呈贡20m分辨率/chenggong_utm48_20m_mndwi.tif\"\n",
    "path_vec = \"E:/YNU/5/OpenSourceGIS/Act_5/OnClass/命令行/chenggong_utm48_20m_mndwi_RasterToPoly.gpkg\"\n",
    "!gdal_polygonize.py $path_in $path_vec"
   ]
  },
  {
   "cell_type": "code",
   "execution_count": 9,
   "metadata": {},
   "outputs": [
    {
     "name": "stderr",
     "output_type": "stream",
     "text": [
      "ERROR 4: E:/YNU/5/OpenSourceGIS/Act_5/OnClass/命令行/chenggong_utm48_20m_mndwi_RasterToPoly.gpkg: No such file or directory\n"
     ]
    }
   ],
   "source": [
    "## 栅格化\n",
    "path_in = \"E:/YNU/5/OpenSourceGIS/Act_5/OnClass/命令行/chenggong_utm48_20m_mndwi_RasterToPoly.gpkg\"\n",
    "path_out = \"E:/YNU/5/OpenSourceGIS/Act_5/OnClass/命令行/chenggong_utm48_20m_mndwi_PolyToRaster.tif\"\n",
    "!gdal_rasterize -ts 1000 1000 -burn 10 $path_in $path_out"
   ]
  }
 ],
 "metadata": {
  "kernelspec": {
   "display_name": "gisenv",
   "language": "python",
   "name": "python3"
  },
  "language_info": {
   "codemirror_mode": {
    "name": "ipython",
    "version": 3
   },
   "file_extension": ".py",
   "mimetype": "text/x-python",
   "name": "python",
   "nbconvert_exporter": "python",
   "pygments_lexer": "ipython3",
   "version": "3.13.0"
  }
 },
 "nbformat": 4,
 "nbformat_minor": 2
}
