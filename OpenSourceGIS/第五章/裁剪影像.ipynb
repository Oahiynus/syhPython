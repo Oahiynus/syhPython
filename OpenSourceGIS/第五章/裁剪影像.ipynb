{
 "cells": [
  {
   "cell_type": "code",
   "execution_count": 1,
   "metadata": {},
   "outputs": [],
   "source": [
    "from osgeo import gdal\n",
    "import numpy as np"
   ]
  },
  {
   "cell_type": "code",
   "execution_count": 2,
   "metadata": {},
   "outputs": [],
   "source": [
    "path_img = \"E:\\\\YNU\\\\5\\\\OpenSourceGIS\\\\Act_5\\\\OnClass\\\\chenggong_utm48.tif\""
   ]
  },
  {
   "cell_type": "code",
   "execution_count": 3,
   "metadata": {},
   "outputs": [
    {
     "name": "stdout",
     "output_type": "stream",
     "text": [
      "打印地理变换参数 (268167.02525260474, 10.421454790528236, 0.0, 2765453.1872716597, 0.0, -9.543567381150961)\n",
      "打印影像的分辨率 10.421454790528236 -9.543567381150961\n",
      "打印左上角和右下角坐标 (268167.02525260474, 2765453.1872716597) (298128.7077753734, 2733205.4730907506)\n",
      "extent (268167.02525260474, 298128.7077753734, 2733205.4730907506, 2765453.1872716597)\n"
     ]
    },
    {
     "name": "stderr",
     "output_type": "stream",
     "text": [
      "e:\\anaconda3\\envs\\geoenv\\Lib\\site-packages\\osgeo\\gdal.py:312: FutureWarning: Neither gdal.UseExceptions() nor gdal.DontUseExceptions() has been explicitly called. In GDAL 4.0, exceptions will be enabled by default.\n",
      "  warnings.warn(\n"
     ]
    }
   ],
   "source": [
    "dset = gdal.Open(path_img) # 打开影像文件\n",
    "geo_trans = dset.GetGeoTransform() # 获取影像的地理变换参数\n",
    "print('打印地理变换参数', geo_trans) # 打印地理变换参数\n",
    "x_min, y_max = geo_trans[0], geo_trans[3] # 获取左上角坐标\n",
    "x_res, y_res = geo_trans[1], geo_trans[5] # 获取影像的分辨率\n",
    "print('打印影像的分辨率', x_res, y_res) # 打印影像的分辨率\n",
    "x_max, y_min = x_min + x_res * dset.RasterXSize, y_max + y_res * dset.RasterYSize # 获取右下角坐标\n",
    "print('打印左上角和右下角坐标', (x_min, y_max), (x_max, y_min)) # 打印左上角和右下角坐标\n",
    "print('extent', (x_min, x_max, y_min, y_max)) # 打印extent\n"
   ]
  },
  {
   "cell_type": "code",
   "execution_count": 4,
   "metadata": {},
   "outputs": [],
   "source": [
    "x_min_subs, x_max_subs = 281209, 284218\n",
    "y_min_subs, y_max_subs = 2746702, 2748732"
   ]
  },
  {
   "cell_type": "markdown",
   "metadata": {},
   "source": [
    "##### 求裁剪区域的左上角的行号和列号"
   ]
  },
  {
   "cell_type": "code",
   "execution_count": 5,
   "metadata": {},
   "outputs": [
    {
     "name": "stdout",
     "output_type": "stream",
     "text": [
      "1251.45433238829 1752.0898217457905\n",
      "1251 1752\n"
     ]
    }
   ],
   "source": [
    "col_start_subs = (x_min_subs - x_min) / x_res\n",
    "row_start_subs = (y_max_subs - y_max) / y_res\n",
    "print(col_start_subs, row_start_subs)\n",
    "# int()向下取整, round()四舍五入取整\n",
    "col_start_subs_update, row_start_subs_update = round(col_start_subs), round(row_start_subs)\n",
    "print(col_start_subs_update, row_start_subs_update)"
   ]
  },
  {
   "cell_type": "markdown",
   "metadata": {},
   "source": [
    "##### 更新裁剪区域左上角角点坐标"
   ]
  },
  {
   "cell_type": "code",
   "execution_count": 6,
   "metadata": {},
   "outputs": [
    {
     "name": "stdout",
     "output_type": "stream",
     "text": [
      "(281204.2651955556, 2748732.8572198832)\n"
     ]
    }
   ],
   "source": [
    "x_min_subs_update = x_min + col_start_subs_update * x_res\n",
    "y_max_subs_update = y_max + row_start_subs_update * y_res\n",
    "print((x_min_subs_update, y_max_subs_update))"
   ]
  },
  {
   "cell_type": "code",
   "execution_count": 7,
   "metadata": {},
   "outputs": [
    {
     "name": "stdout",
     "output_type": "stream",
     "text": [
      "289.18561419884685 212.7985415489693\n"
     ]
    }
   ],
   "source": [
    "x_size_subs = (x_max_subs - x_min_subs_update) / x_res\n",
    "y_size_subs = (y_min_subs - y_max_subs_update) / y_res\n",
    "print(x_size_subs, y_size_subs)"
   ]
  },
  {
   "cell_type": "code",
   "execution_count": 8,
   "metadata": {},
   "outputs": [
    {
     "name": "stdout",
     "output_type": "stream",
     "text": [
      "289 213\n"
     ]
    }
   ],
   "source": [
    "x_size_subs_update, y_size_subs_update = round(x_size_subs), round(y_size_subs)\n",
    "print(x_size_subs_update, y_size_subs_update)"
   ]
  },
  {
   "cell_type": "markdown",
   "metadata": {},
   "source": [
    "##### 更新裁剪区域右下角角点坐标"
   ]
  },
  {
   "cell_type": "code",
   "execution_count": 9,
   "metadata": {},
   "outputs": [
    {
     "name": "stdout",
     "output_type": "stream",
     "text": [
      "284216.06563001825 2746700.0773676983\n"
     ]
    }
   ],
   "source": [
    "x_max_subs_update = x_min_subs_update + x_size_subs_update * x_res\n",
    "y_min_subs_update = y_max_subs_update + y_size_subs_update * y_res\n",
    "print(x_max_subs_update, y_min_subs_update)"
   ]
  },
  {
   "cell_type": "markdown",
   "metadata": {},
   "source": [
    "##### 准确的裁剪空间范围"
   ]
  },
  {
   "cell_type": "code",
   "execution_count": 10,
   "metadata": {},
   "outputs": [
    {
     "name": "stdout",
     "output_type": "stream",
     "text": [
      "[281204.2651955556, 284216.06563001825, 2746700.0773676983, 2748732.8572198832]\n"
     ]
    }
   ],
   "source": [
    "exten_subs_update = [x_min_subs_update, x_max_subs_update, y_min_subs_update, y_max_subs_update]\n",
    "print(exten_subs_update)"
   ]
  },
  {
   "cell_type": "markdown",
   "metadata": {},
   "source": [
    "##### 求裁剪后的地理转换参数"
   ]
  },
  {
   "cell_type": "code",
   "execution_count": 11,
   "metadata": {},
   "outputs": [
    {
     "name": "stdout",
     "output_type": "stream",
     "text": [
      "[281204.2651955556, 10.421454790528236, 0, 2748732.8572198832, 0, -9.543567381150961]\n"
     ]
    }
   ],
   "source": [
    "geotrans_subs = [x_min_subs_update, x_res, 0, y_max_subs_update, 0, y_res]\n",
    "print(geotrans_subs)"
   ]
  },
  {
   "cell_type": "code",
   "execution_count": 12,
   "metadata": {},
   "outputs": [
    {
     "data": {
      "text/plain": [
       "(6, 3379, 2875)"
      ]
     },
     "execution_count": 12,
     "metadata": {},
     "output_type": "execute_result"
    }
   ],
   "source": [
    "img_arry = dset.ReadAsArray()\n",
    "img_arry.shape"
   ]
  },
  {
   "cell_type": "code",
   "execution_count": 13,
   "metadata": {},
   "outputs": [
    {
     "name": "stdout",
     "output_type": "stream",
     "text": [
      "(6, 213, 289)\n"
     ]
    }
   ],
   "source": [
    "img_arry_subs = img_arry[:, \n",
    "                         row_start_subs_update:row_start_subs_update + y_size_subs_update,\n",
    "                         col_start_subs_update:col_start_subs_update + x_size_subs_update]\n",
    "print(img_arry_subs.shape)"
   ]
  },
  {
   "cell_type": "code",
   "execution_count": 14,
   "metadata": {},
   "outputs": [],
   "source": [
    "path_subs = \"E:\\\\YNU\\\\5\\\\OpenSourceGIS\\\\Act_5\\\\OnClass\\\\chenggong_wgs84_subs.tif\"\n",
    "driver = gdal.GetDriverByName(\"GTiff\")\n",
    "dset_subs = driver.Create(path_subs, \n",
    "                          xsize = x_size_subs_update,\n",
    "                          ysize = y_size_subs_update, \n",
    "                          bands = dset.RasterCount, \n",
    "                          eType = gdal.GDT_Int16)\n",
    "dset_subs.SetGeoTransform(geotrans_subs)\n",
    "dset_subs.SetProjection(dset.GetProjection())\n",
    "for i in range(dset.RasterCount):\n",
    "    outband = dset_subs.GetRasterBand(i+1)\n",
    "    outband.WriteArray(img_arry_subs[i])\n",
    "\n",
    "dset_subs = None"
   ]
  }
 ],
 "metadata": {
  "kernelspec": {
   "display_name": "gisenv",
   "language": "python",
   "name": "python3"
  },
  "language_info": {
   "codemirror_mode": {
    "name": "ipython",
    "version": 3
   },
   "file_extension": ".py",
   "mimetype": "text/x-python",
   "name": "python",
   "nbconvert_exporter": "python",
   "pygments_lexer": "ipython3",
   "version": "3.12.5"
  }
 },
 "nbformat": 4,
 "nbformat_minor": 2
}
