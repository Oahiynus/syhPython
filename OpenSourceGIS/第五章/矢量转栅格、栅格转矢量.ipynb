{
 "cells": [
  {
   "cell_type": "markdown",
   "metadata": {},
   "source": [
    "## 栅格转矢量"
   ]
  },
  {
   "cell_type": "code",
   "execution_count": 1,
   "metadata": {},
   "outputs": [],
   "source": [
    "from osgeo import gdal, ogr\n",
    "import matplotlib.pyplot as plt"
   ]
  },
  {
   "cell_type": "code",
   "execution_count": null,
   "metadata": {},
   "outputs": [],
   "source": [
    "path_mndwi = \"E:/YNU/5/OpenSourceGIS/Act_5/OnClass/呈贡10m分辨率裁剪子区域及呈贡20m分辨率/chenggong_utm48_20m_mndwi.tif\"\n",
    "dset = gdal.Open(path_mndwi)\n",
    "mndwi = dset.GetRasterBand(1)\n",
    "mndwi_array = mndwi.ReadAsArray()\n",
    "print(mndwi_array.shape)"
   ]
  },
  {
   "cell_type": "code",
   "execution_count": null,
   "metadata": {},
   "outputs": [],
   "source": [
    "plt.imshow(mndwi_array)"
   ]
  },
  {
   "cell_type": "code",
   "execution_count": null,
   "metadata": {},
   "outputs": [],
   "source": [
    "path_mndwi2polygon = 'E:/YNU/5/OpenSourceGIS/Act_5/OnClass/矢量转栅格/chenggong_utm48_20m_mndwi_thre01_vec.gpkg'\n",
    "\n",
    "proj = gdal.osr.SpatialReference()\n",
    "proj.ImportFromWkt(dset.GetProjection())\n",
    "\n",
    "driver_vec = ogr.GetDriverByName('GPKG')\n",
    "ds_vec = driver_vec.CreateDataSource(path_mndwi2polygon)\n",
    "poly_layer = ds_vec.CreateLayer('mndwi_polygon', srs=proj, geom_type=ogr.wkbMultiPolygon)\n",
    "Field_DN = ogr.FieldDefn('DN', ogr.OFTInter)\n",
    "poly_layer.CreateField(Field_DN)\n",
    "gdal.Polygonize(srcBand=mndwi, maskBand=None, outLayer=poly_layer, iPixValField=0)\n",
    "\n",
    "DN_vec = [1]\n",
    "for fea in poly_layer:\n",
    "    DN_value = fea.GetField('DN')\n",
    "    if DN_value not in DN_vec:\n",
    "        poly_layer.DeleteFeature(fea.GetFiD())\n",
    "\n",
    "ds_vec = None\n",
    "dset = None"
   ]
  },
  {
   "cell_type": "markdown",
   "metadata": {},
   "source": [
    "## 矢量转栅格"
   ]
  },
  {
   "cell_type": "code",
   "execution_count": null,
   "metadata": {},
   "outputs": [],
   "source": [
    "path_vec ='E:/YNU/5/OpenSourceGIS/Act_5/OnClass/栅格转矢量/chenggong_utm48_20m_mndwi_thre01_vec.gpkg'\n",
    "path_raster='E:/YNU/5/OpenSourceGIS/Act_5/OnClass/矢量转栅格/chenggong_utm48_20m_mndwi_thre01_vecZraster.tif'"
   ]
  },
  {
   "cell_type": "code",
   "execution_count": null,
   "metadata": {},
   "outputs": [],
   "source": [
    "ds_vec = ogr.Open(path_vec)\n",
    "layer_vec = ds_vec.GetLayer()\n",
    "proj_vec = layer_vec.GetSpatialRef()\n",
    "proj_vec_wkt = proj_vec.ExportTowkt()\n",
    "print(proj_vec_wkt)\n",
    "\n",
    "x_min, x_max,y_min, y_max = layer_vec.GetExtent()\n",
    "print(x_min, x_max, y_min, y_max)"
   ]
  },
  {
   "cell_type": "code",
   "execution_count": null,
   "metadata": {},
   "outputs": [],
   "source": [
    "pixel_size = 20\n",
    "geo_trans =[x_min, 20,0, y_max, 0,-20]\n",
    "x_size = int((x_max-x_min)/pixel_size)\n",
    "y_size = int((y_max-y_min)/pixel_size)\n",
    "\n",
    "driver = gdal.GetDriverByName('GTiff')\n",
    "dset_raster = driver.Create(path_raster,\n",
    "                            xsize=x_size,\n",
    "                            ysize=y_size,\n",
    "                            bands=1,\n",
    "                            eType=gdal.GDT_Int16\n",
    "                            )"
   ]
  },
  {
   "cell_type": "code",
   "execution_count": null,
   "metadata": {},
   "outputs": [],
   "source": [
    "gdal.RasterizeLayer(dataset=dset_raster, bands=[1], layer=layer_vec, options=['ATTRIBUTE=DN'])"
   ]
  }
 ],
 "metadata": {
  "kernelspec": {
   "display_name": "gisenv",
   "language": "python",
   "name": "python3"
  },
  "language_info": {
   "codemirror_mode": {
    "name": "ipython",
    "version": 3
   },
   "file_extension": ".py",
   "mimetype": "text/x-python",
   "name": "python",
   "nbconvert_exporter": "python",
   "pygments_lexer": "ipython3",
   "version": "3.13.0"
  }
 },
 "nbformat": 4,
 "nbformat_minor": 2
}
