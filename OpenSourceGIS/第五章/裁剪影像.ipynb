{
 "cells": [
  {
   "cell_type": "code",
   "metadata": {
    "ExecuteTime": {
     "end_time": "2024-10-22T08:27:19.349585Z",
     "start_time": "2024-10-22T08:27:19.347316Z"
    }
   },
   "source": [
    "from osgeo import gdal\n",
    "import numpy as np"
   ],
   "outputs": [],
   "execution_count": 6
  },
  {
   "cell_type": "code",
   "metadata": {
    "ExecuteTime": {
     "end_time": "2024-10-22T08:27:19.373568Z",
     "start_time": "2024-10-22T08:27:19.370728Z"
    }
   },
   "source": [
    "path_img = \"E:\\\\YNU\\\\5\\\\OpenSourceGIS\\\\Act_5\\\\OnClass\\\\chenggong_utm48.tif\""
   ],
   "outputs": [],
   "execution_count": 7
  },
  {
   "cell_type": "code",
   "metadata": {
    "ExecuteTime": {
     "end_time": "2024-10-22T08:27:19.394370Z",
     "start_time": "2024-10-22T08:27:19.387186Z"
    }
   },
   "source": [
    "dset = gdal.Open(path_img) # 打开影像文件\n",
    "geo_trans = dset.GetGeoTransform() # 获取影像的地理变换参数\n",
    "print('打印地理变换参数', geo_trans) # 打印地理变换参数\n",
    "x_min, y_max = geo_trans[0], geo_trans[3] # 获取左上角坐标\n",
    "x_res, y_res = geo_trans[1], geo_trans[5] # 获取影像的分辨率\n",
    "print('打印影像的分辨率', x_res, y_res) # 打印影像的分辨率\n",
    "x_max, y_min = x_min + x_res * dset.RasterXSize, y_max + y_res * dset.RasterYSize # 获取右下角坐标\n",
    "print('打印左上角和右下角坐标', (x_min, y_max), (x_max, y_min)) # 打印左上角和右下角坐标\n",
    "print('extent', (x_min, x_max, y_min, y_max)) # 打印extent\n"
   ],
   "outputs": [
    {
     "name": "stdout",
     "output_type": "stream",
     "text": [
      "打印地理变换参数 (268167.02525260474, 10.421454790528236, 0.0, 2765453.1872716597, 0.0, -9.543567381150961)\n",
      "打印影像的分辨率 10.421454790528236 -9.543567381150961\n",
      "打印左上角和右下角坐标 (268167.02525260474, 2765453.1872716597) (298128.7077753734, 2733205.4730907506)\n",
      "extent (268167.02525260474, 298128.7077753734, 2733205.4730907506, 2765453.1872716597)\n"
     ]
    }
   ],
   "execution_count": 8
  },
  {
   "cell_type": "code",
   "metadata": {
    "ExecuteTime": {
     "end_time": "2024-10-22T08:27:19.406210Z",
     "start_time": "2024-10-22T08:27:19.403849Z"
    }
   },
   "source": [
    "x_min_subs, x_max_subs = 281209, 284218\n",
    "y_min_subs, y_max_subs = 2746702, 2748732"
   ],
   "outputs": [],
   "execution_count": 9
  },
  {
   "cell_type": "markdown",
   "metadata": {},
   "source": [
    "##### 求裁剪区域的左上角的行号和列号"
   ]
  },
  {
   "cell_type": "code",
   "metadata": {
    "ExecuteTime": {
     "end_time": "2024-10-22T08:27:19.422568Z",
     "start_time": "2024-10-22T08:27:19.419698Z"
    }
   },
   "source": [
    "col_start_subs = (x_min_subs - x_min) / x_res\n",
    "row_start_subs = (y_max_subs - y_max) / y_res\n",
    "print(col_start_subs, row_start_subs)\n",
    "# int()向下取整, round()四舍五入取整\n",
    "col_start_subs_update, row_start_subs_update = round(col_start_subs), round(row_start_subs)\n",
    "print(col_start_subs_update, row_start_subs_update)"
   ],
   "outputs": [
    {
     "name": "stdout",
     "output_type": "stream",
     "text": [
      "1251.45433238829 1752.0898217457905\n",
      "1251 1752\n"
     ]
    }
   ],
   "execution_count": 10
  },
  {
   "cell_type": "markdown",
   "metadata": {},
   "source": [
    "##### 更新裁剪区域左上角角点坐标"
   ]
  },
  {
   "cell_type": "code",
   "metadata": {
    "ExecuteTime": {
     "end_time": "2024-10-22T08:27:19.436238Z",
     "start_time": "2024-10-22T08:27:19.433389Z"
    }
   },
   "source": [
    "x_min_subs_update = x_min + col_start_subs_update * x_res\n",
    "y_max_subs_update = y_max + row_start_subs_update * y_res\n",
    "print((x_min_subs_update, y_max_subs_update))"
   ],
   "outputs": [
    {
     "name": "stdout",
     "output_type": "stream",
     "text": [
      "(281204.2651955556, 2748732.8572198832)\n"
     ]
    }
   ],
   "execution_count": 11
  },
  {
   "cell_type": "code",
   "metadata": {
    "ExecuteTime": {
     "end_time": "2024-10-22T08:27:19.455820Z",
     "start_time": "2024-10-22T08:27:19.453058Z"
    }
   },
   "source": [
    "x_size_subs = (x_max_subs - x_min_subs_update) / x_res\n",
    "y_size_subs = (y_min_subs - y_max_subs_update) / y_res\n",
    "print(x_size_subs, y_size_subs)"
   ],
   "outputs": [
    {
     "name": "stdout",
     "output_type": "stream",
     "text": [
      "289.18561419884685 212.7985415489693\n"
     ]
    }
   ],
   "execution_count": 12
  },
  {
   "cell_type": "code",
   "metadata": {
    "ExecuteTime": {
     "end_time": "2024-10-22T08:27:19.479794Z",
     "start_time": "2024-10-22T08:27:19.477105Z"
    }
   },
   "source": [
    "x_size_subs_update, y_size_subs_update = round(x_size_subs), round(y_size_subs)\n",
    "print(x_size_subs_update, y_size_subs_update)"
   ],
   "outputs": [
    {
     "name": "stdout",
     "output_type": "stream",
     "text": [
      "289 213\n"
     ]
    }
   ],
   "execution_count": 13
  },
  {
   "cell_type": "markdown",
   "metadata": {},
   "source": [
    "##### 更新裁剪区域右下角角点坐标"
   ]
  },
  {
   "cell_type": "code",
   "metadata": {
    "ExecuteTime": {
     "end_time": "2024-10-22T08:27:19.491509Z",
     "start_time": "2024-10-22T08:27:19.488850Z"
    }
   },
   "source": [
    "x_max_subs_update = x_min_subs_update + x_size_subs_update * x_res\n",
    "y_min_subs_update = y_max_subs_update + y_size_subs_update * y_res\n",
    "print(x_max_subs_update, y_min_subs_update)"
   ],
   "outputs": [
    {
     "name": "stdout",
     "output_type": "stream",
     "text": [
      "284216.06563001825 2746700.0773676983\n"
     ]
    }
   ],
   "execution_count": 14
  },
  {
   "cell_type": "markdown",
   "metadata": {},
   "source": [
    "##### 准确的裁剪空间范围"
   ]
  },
  {
   "cell_type": "code",
   "metadata": {
    "ExecuteTime": {
     "end_time": "2024-10-22T08:27:19.509954Z",
     "start_time": "2024-10-22T08:27:19.507018Z"
    }
   },
   "source": [
    "exten_subs_update = [x_min_subs_update, x_max_subs_update, y_min_subs_update, y_max_subs_update]\n",
    "print(exten_subs_update)"
   ],
   "outputs": [
    {
     "name": "stdout",
     "output_type": "stream",
     "text": [
      "[281204.2651955556, 284216.06563001825, 2746700.0773676983, 2748732.8572198832]\n"
     ]
    }
   ],
   "execution_count": 15
  },
  {
   "cell_type": "markdown",
   "metadata": {},
   "source": [
    "##### 求裁剪后的地理转换参数"
   ]
  },
  {
   "cell_type": "code",
   "metadata": {
    "ExecuteTime": {
     "end_time": "2024-10-22T08:27:19.532533Z",
     "start_time": "2024-10-22T08:27:19.529740Z"
    }
   },
   "source": [
    "geotrans_subs = [x_min_subs_update, x_res, 0, y_max_subs_update, 0, y_res]\n",
    "print(geotrans_subs)"
   ],
   "outputs": [
    {
     "name": "stdout",
     "output_type": "stream",
     "text": [
      "[281204.2651955556, 10.421454790528236, 0, 2748732.8572198832, 0, -9.543567381150961]\n"
     ]
    }
   ],
   "execution_count": 16
  },
  {
   "cell_type": "code",
   "metadata": {
    "ExecuteTime": {
     "end_time": "2024-10-22T08:27:19.654248Z",
     "start_time": "2024-10-22T08:27:19.543802Z"
    }
   },
   "source": [
    "img_arry = dset.ReadAsArray()\n",
    "img_arry.shape"
   ],
   "outputs": [
    {
     "data": {
      "text/plain": [
       "(6, 3379, 2875)"
      ]
     },
     "execution_count": 17,
     "metadata": {},
     "output_type": "execute_result"
    }
   ],
   "execution_count": 17
  },
  {
   "cell_type": "code",
   "metadata": {
    "ExecuteTime": {
     "end_time": "2024-10-22T08:27:19.726843Z",
     "start_time": "2024-10-22T08:27:19.724261Z"
    }
   },
   "source": [
    "img_arry_subs = img_arry[:, \n",
    "                         row_start_subs_update:row_start_subs_update + y_size_subs_update,\n",
    "                         col_start_subs_update:col_start_subs_update + x_size_subs_update]\n",
    "print(img_arry_subs.shape)"
   ],
   "outputs": [
    {
     "name": "stdout",
     "output_type": "stream",
     "text": [
      "(6, 213, 289)\n"
     ]
    }
   ],
   "execution_count": 18
  },
  {
   "cell_type": "code",
   "metadata": {
    "ExecuteTime": {
     "end_time": "2024-10-22T08:27:19.894300Z",
     "start_time": "2024-10-22T08:27:19.806202Z"
    }
   },
   "source": [
    "path_subs = \"E:\\\\YNU\\\\5\\\\OpenSourceGIS\\\\Act_5\\\\OnClass\\\\chenggong_wgs84_subs.tif\"\n",
    "driver = gdal.GetDriverByName(\"GTiff\")\n",
    "dset_subs = driver.Create(path_subs, \n",
    "                          xsize = x_size_subs_update,\n",
    "                          ysize = y_size_subs_update, \n",
    "                          bands = dset.RasterCount, \n",
    "                          eType = gdal.GDT_Int16)\n",
    "dset_subs.SetGeoTransform(geotrans_subs)\n",
    "dset_subs.SetProjection(dset.GetProjection())\n",
    "for i in range(dset.RasterCount):\n",
    "    outband = dset_subs.GetRasterBand(i+1)\n",
    "    outband.WriteArray(img_arry_subs[i])\n",
    "\n",
    "dset_subs = None"
   ],
   "outputs": [],
   "execution_count": 19
  }
 ],
 "metadata": {
  "kernelspec": {
   "display_name": "gisenv",
   "language": "python",
   "name": "python3"
  },
  "language_info": {
   "codemirror_mode": {
    "name": "ipython",
    "version": 3
   },
   "file_extension": ".py",
   "mimetype": "text/x-python",
   "name": "python",
   "nbconvert_exporter": "python",
   "pygments_lexer": "ipython3",
   "version": "3.12.5"
  }
 },
 "nbformat": 4,
 "nbformat_minor": 2
}
