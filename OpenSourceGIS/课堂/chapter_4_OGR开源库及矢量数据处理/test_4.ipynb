{
 "cells": [
  {
   "cell_type": "markdown",
   "metadata": {},
   "source": [
    "## 依据脚点坐标创建面要素矢量图层"
   ]
  },
  {
   "cell_type": "markdown",
   "metadata": {},
   "source": [
    "(103.837, 24.832), (102.842, 24.836), (102.849, 24.836), (102.857, 24.835),  \n",
    "(102.864, 24.828), (102.855, 24.826), (102.845, 24.821), (102.837, 24.832)"
   ]
  },
  {
   "cell_type": "code",
   "execution_count": 5,
   "metadata": {},
   "outputs": [],
   "source": [
    "from osgeo import ogr"
   ]
  },
  {
   "cell_type": "code",
   "execution_count": 7,
   "metadata": {},
   "outputs": [],
   "source": [
    "ds_ynu = None\n",
    "path_ynu = \"E:/YNU/5/OpenSourceGIS/Act_5/OnClass/ynu_vec.gpkg\"\n",
    "ynu_wkt = \"POLYGON((102.837 24.832, 102.842 24.836, 102.849 24.836, 102.857 24.835, 102.864 24.828, 102.855 24.826, 102.845 24.821, 102.837 24.832))\"\n",
    "geo_ynu = ogr.CreateGeometryFromWkt(ynu_wkt)\n",
    "\n",
    "# 定义空间参考\n",
    "spatialRef = ogr.osr.SpatialReference()\n",
    "spatialRef.ImportFromEPSG(4326)\n",
    "\n",
    "# 创建数据驱动\n",
    "driver = ogr.GetDriverByName('GPKG')\n",
    "# 创建数据源\n",
    "ds_ynu = driver.CreateDataSource(path_ynu) \n",
    "# 创建图层\n",
    "layer_ynu = ds_ynu.CreateLayer('ynu_vec', srs = spatialRef, geom_type = ogr.wkbPolygon)\n",
    "# 创建字段定义\n",
    "field_defn = ogr.FieldDefn('fid', ogr.OFTInteger)\n",
    "# 创建字段\n",
    "layer_ynu.CreateField(field_defn)\n",
    "# 创建要素定义\n",
    "fea_defn = layer_ynu.GetLayerDefn()\n",
    "# 创建要素\n",
    "fea_ynu = ogr.Feature(fea_defn)\n",
    "# 设置字段值\n",
    "fea_ynu.SetField('fid', 1)\n",
    "# 设置要素几何\n",
    "fea_ynu.SetGeometry(geo_ynu)\n",
    "# 把要素放到图层中\n",
    "layer_ynu.CreateFeature(fea_ynu)\n",
    "\n",
    "ds_ynu = None"
   ]
  }
 ],
 "metadata": {
  "kernelspec": {
   "display_name": "geoenv",
   "language": "python",
   "name": "python3"
  },
  "language_info": {
   "codemirror_mode": {
    "name": "ipython",
    "version": 3
   },
   "file_extension": ".py",
   "mimetype": "text/x-python",
   "name": "python",
   "nbconvert_exporter": "python",
   "pygments_lexer": "ipython3",
   "version": "3.12.5"
  }
 },
 "nbformat": 4,
 "nbformat_minor": 2
}
