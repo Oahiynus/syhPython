{
 "cells": [
  {
   "cell_type": "markdown",
   "metadata": {},
   "source": [
    "## 更多print | 让程序给你打印一首诗"
   ]
  },
  {
   "cell_type": "code",
   "execution_count": 10,
   "metadata": {},
   "outputs": [
    {
     "name": "stdout",
     "output_type": "stream",
     "text": [
      "你好 这是一句代码 哈哈\n",
      "\n",
      "He said \"Let's go!\"\n",
      "\n",
      "我是第一行\n",
      "我是第二行\n",
      "\n",
      "君不见，黄河之水天上来，奔流到海不复回。\n",
      "君不见，高堂明镜悲白发，朝如青丝暮成雪。\n",
      "人生得意须尽欢，莫使金樽空对月。\n",
      "天生我材必有用，千金散尽还复来。\n"
     ]
    }
   ],
   "source": [
    "# 字符串连接\n",
    "print(\"你好\" + \" 这是一句代码\" + \" 哈哈\" + '\\n')\n",
    "# 单双引号转义\n",
    "print('He said \\\"Let\\'s go!\\\"' + '\\n')\n",
    "# 换行\n",
    "print(\"我是第一行\\n我是第二行\" + '\\n')\n",
    "# 三引号跨行字符串\n",
    "print(\"\"\"君不见，黄河之水天上来，奔流到海不复回。\n",
    "君不见，高堂明镜悲白发，朝如青丝暮成雪。\n",
    "人生得意须尽欢，莫使金樽空对月。\n",
    "天生我材必有用，千金散尽还复来。\"\"\")\n"
   ]
  },
  {
   "cell_type": "markdown",
   "metadata": {},
   "source": [
    "## Python变量 | 怎么让对象记住你的手机号"
   ]
  },
  {
   "cell_type": "code",
   "execution_count": 14,
   "metadata": {},
   "outputs": [
    {
     "name": "stdout",
     "output_type": "stream",
     "text": [
      "拨打13766666666\n",
      "拨打13766666666\n",
      "拨打15088888888\n",
      "拨打15088888888\n"
     ]
    }
   ],
   "source": [
    "# 变量名中间不能有空格，也不能是数字打头，也千万别用引号包住它\n",
    "my_love = \"13766666666\"\n",
    "print(\"拨打\" + my_love)\n",
    "print(\"拨打\" + my_love)\n",
    "\n",
    "# 假设现在对象换了个号码\n",
    "my_love_ex = my_love\n",
    "my_love = \"15088888888\"\n",
    "print(\"拨打\" + my_love)\n",
    "print(\"拨打\" + my_love)"
   ]
  },
  {
   "cell_type": "markdown",
   "metadata": {},
   "source": []
  }
 ],
 "metadata": {
  "kernelspec": {
   "display_name": ".venv",
   "language": "python",
   "name": "python3"
  },
  "language_info": {
   "codemirror_mode": {
    "name": "ipython",
    "version": 3
   },
   "file_extension": ".py",
   "mimetype": "text/x-python",
   "name": "python",
   "nbconvert_exporter": "python",
   "pygments_lexer": "ipython3",
   "version": "3.12.5"
  }
 },
 "nbformat": 4,
 "nbformat_minor": 2
}
