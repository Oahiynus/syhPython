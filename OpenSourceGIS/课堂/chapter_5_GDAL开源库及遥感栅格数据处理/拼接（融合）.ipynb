{
 "cells": [
  {
   "cell_type": "markdown",
   "metadata": {},
   "source": [
    "## 影像拼接（融合）"
   ]
  },
  {
   "cell_type": "code",
   "metadata": {
    "ExecuteTime": {
     "end_time": "2024-10-22T08:57:07.598705Z",
     "start_time": "2024-10-22T08:57:07.508524Z"
    }
   },
   "source": [
    "from osgeo import gdal\n",
    "import numpy as np"
   ],
   "outputs": [],
   "execution_count": 1
  },
  {
   "cell_type": "code",
   "metadata": {
    "ExecuteTime": {
     "end_time": "2024-10-22T08:28:12.398635Z",
     "start_time": "2024-10-22T08:28:12.396691Z"
    }
   },
   "source": [
    "path_img_1 = \"E:\\\\YNU\\\\5\\\\OpenSourceGIS\\\\Act_5\\\\OnClass\\\\呈贡10m分辨率裁剪子区域及呈贡20m分辨率\\\\subset_1_of_chenggong_utm48_10m.tif\"\n",
    "path_img_2 = \"E:\\\\YNU\\\\5\\\\OpenSourceGIS\\\\Act_5\\\\OnClass\\\\呈贡10m分辨率裁剪子区域及呈贡20m分辨率\\\\subset_2_of_chenggong_utm48_10m.tif\""
   ],
   "outputs": [],
   "execution_count": 2
  },
  {
   "cell_type": "code",
   "metadata": {
    "ExecuteTime": {
     "end_time": "2024-10-22T08:28:12.615464Z",
     "start_time": "2024-10-22T08:28:12.606037Z"
    }
   },
   "source": [
    "dset_subs1 = gdal.Open(path_img_1)\n",
    "dset_subs2 = gdal.Open(path_img_2)\n",
    "geotrans_subs1 = dset_subs1.GetGeoTransform()\n",
    "geotrans_subs2 = dset_subs2.GetGeoTransform()\n",
    "print('第一幅影像的地理转换参数为：', geotrans_subs1)\n",
    "print('第二幅影像的地理转换参数为：', geotrans_subs2)\n",
    "x_min_subs1 = geotrans_subs1[0]\n",
    "y_max_subs1 = geotrans_subs1[3]\n",
    "x_min_subs2 = geotrans_subs2[0]\n",
    "y_max_subs2 = geotrans_subs2[3]"
   ],
   "outputs": [
    {
     "name": "stdout",
     "output_type": "stream",
     "text": [
      "第一幅影像的地理转换参数为： (268167.23598, 10.0, 0.0, 2751853.4154879693, 0.0, -10.0)\n",
      "第二幅影像的地理转换参数为： (268167.23598, 10.0, 0.0, 2765453.4154879693, 0.0, -10.0)\n"
     ]
    },
    {
     "name": "stderr",
     "output_type": "stream",
     "text": [
      "E:\\anaconda3\\envs\\gisenv\\Lib\\site-packages\\osgeo\\gdal.py:312: FutureWarning: Neither gdal.UseExceptions() nor gdal.DontUseExceptions() has been explicitly called. In GDAL 4.0, exceptions will be enabled by default.\n",
      "  warnings.warn(\n"
     ]
    }
   ],
   "execution_count": 3
  },
  {
   "cell_type": "code",
   "metadata": {
    "ExecuteTime": {
     "end_time": "2024-10-22T08:28:12.626727Z",
     "start_time": "2024-10-22T08:28:12.624082Z"
    }
   },
   "source": [
    "x_max_subs1 = x_min_subs1 + dset_subs1.RasterXSize * geotrans_subs1[1]\n",
    "y_min_subs1 = y_max_subs1 + dset_subs1.RasterYSize * geotrans_subs1[5]\n",
    "print(x_min_subs1, x_max_subs1, y_min_subs1, y_max_subs1)"
   ],
   "outputs": [
    {
     "name": "stdout",
     "output_type": "stream",
     "text": [
      "268167.23598 298137.23598 2733203.4154879693 2751853.4154879693\n"
     ]
    }
   ],
   "execution_count": 4
  },
  {
   "cell_type": "code",
   "metadata": {
    "ExecuteTime": {
     "end_time": "2024-10-22T08:28:12.642853Z",
     "start_time": "2024-10-22T08:28:12.640481Z"
    }
   },
   "source": [
    "x_max_subs2 = x_min_subs2 + dset_subs2.RasterXSize * geotrans_subs2[1]\n",
    "y_min_subs2 = y_max_subs2 + dset_subs2.RasterYSize * geotrans_subs2[5]\n",
    "print(x_min_subs2, x_max_subs2, y_min_subs2, y_max_subs2)"
   ],
   "outputs": [
    {
     "name": "stdout",
     "output_type": "stream",
     "text": [
      "268167.23598 298137.23598 2747643.4154879693 2765453.4154879693\n"
     ]
    }
   ],
   "execution_count": 5
  },
  {
   "cell_type": "code",
   "metadata": {
    "ExecuteTime": {
     "end_time": "2024-10-22T08:28:12.659108Z",
     "start_time": "2024-10-22T08:28:12.656479Z"
    }
   },
   "source": [
    "x_min_mosaic = min(x_min_subs1, x_min_subs2)\n",
    "x_max_mosaic = max(x_max_subs1, x_max_subs2)\n",
    "y_min_mosaic = min(y_min_subs1, y_min_subs2)\n",
    "y_max_mosaic = max(y_max_subs1, y_max_subs2)\n",
    "print(x_min_mosaic, x_max_mosaic, y_min_mosaic, y_max_mosaic)"
   ],
   "outputs": [
    {
     "name": "stdout",
     "output_type": "stream",
     "text": [
      "268167.23598 298137.23598 2733203.4154879693 2765453.4154879693\n"
     ]
    }
   ],
   "execution_count": 6
  },
  {
   "cell_type": "code",
   "metadata": {
    "ExecuteTime": {
     "end_time": "2024-10-22T08:28:12.672117Z",
     "start_time": "2024-10-22T08:28:12.669332Z"
    }
   },
   "source": [
    "x_res_mosaic, y_res_mosaic = geotrans_subs1[1], geotrans_subs1[5]\n",
    "print(x_res_mosaic, y_res_mosaic)"
   ],
   "outputs": [
    {
     "name": "stdout",
     "output_type": "stream",
     "text": [
      "10.0 -10.0\n"
     ]
    }
   ],
   "execution_count": 7
  },
  {
   "cell_type": "code",
   "metadata": {
    "ExecuteTime": {
     "end_time": "2024-10-22T08:28:12.693219Z",
     "start_time": "2024-10-22T08:28:12.690602Z"
    }
   },
   "source": [
    "x_size_mosaic = (x_max_mosaic - x_min_mosaic) / x_res_mosaic\n",
    "y_size_mosaic = abs((y_max_mosaic - y_min_mosaic) / y_res_mosaic)\n",
    "print(x_size_mosaic, y_size_mosaic)"
   ],
   "outputs": [
    {
     "name": "stdout",
     "output_type": "stream",
     "text": [
      "2997.0 3225.0\n"
     ]
    }
   ],
   "execution_count": 8
  },
  {
   "cell_type": "code",
   "metadata": {
    "ExecuteTime": {
     "end_time": "2024-10-22T08:28:12.701809Z",
     "start_time": "2024-10-22T08:28:12.699396Z"
    }
   },
   "source": [
    "x_size_mosaic, y_size_mosaic = int(x_size_mosaic), int(y_size_mosaic)\n",
    "print(x_size_mosaic, y_size_mosaic)"
   ],
   "outputs": [
    {
     "name": "stdout",
     "output_type": "stream",
     "text": [
      "2997 3225\n"
     ]
    }
   ],
   "execution_count": 9
  },
  {
   "cell_type": "code",
   "metadata": {
    "ExecuteTime": {
     "end_time": "2024-10-22T08:28:12.712319Z",
     "start_time": "2024-10-22T08:28:12.710035Z"
    }
   },
   "source": [
    "geotrans_mosaic = [x_min_mosaic, x_res_mosaic, 0, y_max_mosaic, 0, y_res_mosaic]\n",
    "print(geotrans_mosaic)"
   ],
   "outputs": [
    {
     "name": "stdout",
     "output_type": "stream",
     "text": [
      "[268167.23598, 10.0, 0, 2765453.4154879693, 0, -10.0]\n"
     ]
    }
   ],
   "execution_count": 10
  },
  {
   "cell_type": "code",
   "metadata": {
    "ExecuteTime": {
     "end_time": "2024-10-22T08:28:12.726172Z",
     "start_time": "2024-10-22T08:28:12.723370Z"
    }
   },
   "source": [
    "img_arry_mosaic = np.zeros(shape = (dset_subs1.RasterCount, y_size_mosaic, x_size_mosaic))\n",
    "print(img_arry_mosaic.shape)"
   ],
   "outputs": [
    {
     "name": "stdout",
     "output_type": "stream",
     "text": [
      "(6, 3225, 2997)\n"
     ]
    }
   ],
   "execution_count": 11
  },
  {
   "cell_type": "code",
   "metadata": {
    "ExecuteTime": {
     "end_time": "2024-10-22T08:28:12.736690Z",
     "start_time": "2024-10-22T08:28:12.733615Z"
    }
   },
   "source": [
    "row_start_subs1 = int((y_max_subs1 - y_max_mosaic) / y_res_mosaic)\n",
    "col_start_subs1 = int((x_min_subs1 - x_min_mosaic) / x_res_mosaic)\n",
    "row_start_subs2 =int((y_max_subs2 - y_max_mosaic) / y_res_mosaic)\n",
    "col_start_subs2 = int((x_min_subs2 - x_min_mosaic) / x_res_mosaic)\n",
    "print(row_start_subs1, row_start_subs2, col_start_subs1, col_start_subs2)\n"
   ],
   "outputs": [
    {
     "name": "stdout",
     "output_type": "stream",
     "text": [
      "1360 0 0 0\n"
     ]
    }
   ],
   "execution_count": 12
  },
  {
   "cell_type": "code",
   "metadata": {
    "ExecuteTime": {
     "end_time": "2024-10-22T08:28:13.015608Z",
     "start_time": "2024-10-22T08:28:12.813824Z"
    }
   },
   "source": [
    "img_arry_mosaic[:, row_start_subs1 : row_start_subs1 + dset_subs1.RasterYSize, col_start_subs1 : col_start_subs1 + dset_subs1.RasterXSize] = dset_subs1.ReadAsArray()\n",
    "img_arry_mosaic[:, row_start_subs2 : row_start_subs2 + dset_subs2.RasterYSize, col_start_subs2 : col_start_subs2 + dset_subs2.RasterXSize] = dset_subs2.ReadAsArray()"
   ],
   "outputs": [],
   "execution_count": 13
  },
  {
   "cell_type": "code",
   "metadata": {
    "ExecuteTime": {
     "end_time": "2024-10-22T08:28:13.328936Z",
     "start_time": "2024-10-22T08:28:13.025671Z"
    }
   },
   "source": [
    "path_mosaic = \"E:\\\\YNU\\\\5\\\\OpenSourceGIS\\\\Act_5\\\\OnClass\\\\呈贡10m分辨率裁剪子区域及呈贡20m分辨率\\\\subset_2_of_chenggong_utm48_10m_subs_mosaic.tif\"\n",
    "driver = gdal.GetDriverByName(\"GTiff\")\n",
    "dset_mosaic = driver.Create(path_mosaic, \n",
    "                            xsize = x_size_mosaic, \n",
    "                            ysize = y_size_mosaic, \n",
    "                            bands = dset_subs1.RasterCount, \n",
    "                            eType = gdal.GDT_Int16)\n",
    "dset_mosaic.SetGeoTransform(geotrans_mosaic)\n",
    "dset_mosaic.SetProjection(dset_subs1.GetProjection())\n",
    "for i in range(dset_subs1.RasterCount):\n",
    "    outband = dset_mosaic.GetRasterBand(i+1)\n",
    "    outband.WriteArray(img_arry_mosaic[i])\n",
    "\n",
    "dset_mosaic = None\n",
    "dset_subs1 = None\n",
    "dset_subs2 = None"
   ],
   "outputs": [],
   "execution_count": 14
  }
 ],
 "metadata": {
  "kernelspec": {
   "display_name": "gisenv",
   "language": "python",
   "name": "python3"
  },
  "language_info": {
   "codemirror_mode": {
    "name": "ipython",
    "version": 3
   },
   "file_extension": ".py",
   "mimetype": "text/x-python",
   "name": "python",
   "nbconvert_exporter": "python",
   "pygments_lexer": "ipython3",
   "version": "3.13.0"
  }
 },
 "nbformat": 4,
 "nbformat_minor": 2
}
